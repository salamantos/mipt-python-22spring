{
 "cells": [
  {
   "cell_type": "markdown",
   "id": "e95fd853",
   "metadata": {},
   "source": [
    "# Асинхронное программирование на Python. Библиотека [asyncio](https://docs.python.org/3/library/asyncio.html) #"
   ]
  },
  {
   "cell_type": "markdown",
   "id": "23ebcfe3",
   "metadata": {},
   "source": [
    "Слыша слова \"асинхронное программирование\" в основном представляется, что имея одну большую задачу мы хотим разбить ее на несколько небольших кусочков и выполнить их независимо друг от друга, а после склеить результаты и получить полное решение.\n",
    "\n",
    "Однако как же это правильно реализовать на самом деле?"
   ]
  },
  {
   "cell_type": "markdown",
   "metadata": {},
   "source": [
    "Задачи, которые перед нами возникают принято делить на 2 типа:\n",
    "\n",
    "1. **CPU-bound**\n",
    "\n",
    "    Вычислительные задачи, которые в основном зависят от ресурсов процессора. Примерами таких задач могут служить математичекие вычисления, майнинг криптовалют или взлом шифров по ключу с помощью подбора простых множителей.\n",
    "\n",
    "* **I/O-bound**\n",
    "\n",
    "    Это тип задач, которые которые в основном зависят от скорости ввода/вывода информации (input/output)\n",
    "\n",
    "В зависимости от типа задачи используют разные подходы к её делению на подзадачи.\n"
   ]
  },
  {
   "cell_type": "markdown",
   "metadata": {},
   "source": [
    "## CPU-bound задачи"
   ]
  },
  {
   "cell_type": "markdown",
   "metadata": {},
   "source": [
    "Рассмотрим функцию, которая считает долго возводит число в квадрат :"
   ]
  },
  {
   "cell_type": "code",
   "execution_count": 2,
   "id": "b8c21a5d",
   "metadata": {},
   "outputs": [],
   "source": [
    "import time\n",
    "\n",
    "def slow_square(x):\n",
    "    time.sleep(1)\n",
    "    print(x)\n",
    "    return x**2"
   ]
  },
  {
   "cell_type": "markdown",
   "id": "a5844d70",
   "metadata": {},
   "source": [
    "Посчитаем с помощью этой функции квадраты натуральных чисел до пяти, а так же посчитаем время работы программы:"
   ]
  },
  {
   "cell_type": "code",
   "execution_count": 2,
   "id": "604b5c40",
   "metadata": {
    "scrolled": false
   },
   "outputs": [
    {
     "name": "stdout",
     "output_type": "stream",
     "text": [
      "0\n",
      "0\n",
      "1\n",
      "1\n",
      "2\n",
      "4\n",
      "3\n",
      "9\n",
      "4\n",
      "16\n"
     ]
    },
    {
     "data": {
      "text/plain": [
       "5.008170127868652"
      ]
     },
     "execution_count": 2,
     "metadata": {},
     "output_type": "execute_result"
    }
   ],
   "source": [
    "start_time = time.time()\n",
    "\n",
    "for num in range(5):\n",
    "    print(slow_square(num))\n",
    "    \n",
    "time.time() - start_time    "
   ]
  },
  {
   "cell_type": "markdown",
   "id": "41b03aeb",
   "metadata": {},
   "source": [
    "Получилось слишком долго :( \n",
    "\n",
    "Можем сделать быстрее, ведь вычисления не зависят от результатов предыдущих - создадим 5 разных процессов, в каждом из которых запустим выполнение функции.\n",
    "\n",
    "Для этого воспользуемся классом `Process` из модуля `multiprocessing`:"
   ]
  },
  {
   "cell_type": "code",
   "execution_count": 3,
   "id": "0137fc9c",
   "metadata": {},
   "outputs": [
    {
     "name": "stdout",
     "output_type": "stream",
     "text": [
      "1\n",
      "0\n",
      "2\n",
      "3\n",
      "4\n",
      "1.0951440334320068\n"
     ]
    }
   ],
   "source": [
    "from multiprocessing import Process\n",
    "\n",
    "start_time = time.time()\n",
    "process_lst = []\n",
    "for i in range(5):\n",
    "    process_lst.append(Process(target=slow_square, args=(i,)))\n",
    "    process_lst[i].start()\n",
    "        \n",
    "for i in range(5):    \n",
    "    process_lst[i].join()\n",
    "    \n",
    "print(time.time() - start_time)"
   ]
  },
  {
   "cell_type": "markdown",
   "id": "8820b90a",
   "metadata": {},
   "source": [
    "Видно, что мы победили проблему - мы сократили время подсчета до времени исполнения одной функции. \n",
    "\n",
    "Можем сделать то же самое, но удобнее с помощью класса `Pool`, который делает ту же работу, только удобнее:"
   ]
  },
  {
   "cell_type": "code",
   "execution_count": 4,
   "id": "e116ae5b",
   "metadata": {},
   "outputs": [
    {
     "name": "stdout",
     "output_type": "stream",
     "text": [
      "13254\n",
      "\n",
      "[1, 4, 9, 16, 25]\n",
      "\n",
      "\n",
      "\n"
     ]
    },
    {
     "name": "stderr",
     "output_type": "stream",
     "text": [
      "Process ForkPoolWorker-8:\n",
      "Process ForkPoolWorker-6:\n",
      "Process ForkPoolWorker-7:\n",
      "Process ForkPoolWorker-10:\n",
      "Process ForkPoolWorker-9:\n",
      "Traceback (most recent call last):\n",
      "Traceback (most recent call last):\n",
      "Traceback (most recent call last):\n",
      "Traceback (most recent call last):\n",
      "Traceback (most recent call last):\n",
      "  File \"/home/zetman13/miniconda3/lib/python3.9/multiprocessing/process.py\", line 315, in _bootstrap\n",
      "    self.run()\n",
      "  File \"/home/zetman13/miniconda3/lib/python3.9/multiprocessing/process.py\", line 315, in _bootstrap\n",
      "    self.run()\n",
      "  File \"/home/zetman13/miniconda3/lib/python3.9/multiprocessing/process.py\", line 315, in _bootstrap\n",
      "    self.run()\n",
      "  File \"/home/zetman13/miniconda3/lib/python3.9/multiprocessing/process.py\", line 315, in _bootstrap\n",
      "    self.run()\n",
      "  File \"/home/zetman13/miniconda3/lib/python3.9/multiprocessing/process.py\", line 315, in _bootstrap\n",
      "    self.run()\n",
      "  File \"/home/zetman13/miniconda3/lib/python3.9/multiprocessing/process.py\", line 108, in run\n",
      "    self._target(*self._args, **self._kwargs)\n",
      "  File \"/home/zetman13/miniconda3/lib/python3.9/multiprocessing/process.py\", line 108, in run\n",
      "    self._target(*self._args, **self._kwargs)\n",
      "  File \"/home/zetman13/miniconda3/lib/python3.9/multiprocessing/process.py\", line 108, in run\n",
      "    self._target(*self._args, **self._kwargs)\n",
      "  File \"/home/zetman13/miniconda3/lib/python3.9/multiprocessing/process.py\", line 108, in run\n",
      "    self._target(*self._args, **self._kwargs)\n",
      "  File \"/home/zetman13/miniconda3/lib/python3.9/multiprocessing/process.py\", line 108, in run\n",
      "    self._target(*self._args, **self._kwargs)\n",
      "  File \"/home/zetman13/miniconda3/lib/python3.9/multiprocessing/pool.py\", line 114, in worker\n",
      "    task = get()\n",
      "  File \"/home/zetman13/miniconda3/lib/python3.9/multiprocessing/pool.py\", line 114, in worker\n",
      "    task = get()\n",
      "  File \"/home/zetman13/miniconda3/lib/python3.9/multiprocessing/pool.py\", line 114, in worker\n",
      "    task = get()\n",
      "  File \"/home/zetman13/miniconda3/lib/python3.9/multiprocessing/pool.py\", line 114, in worker\n",
      "    task = get()\n",
      "  File \"/home/zetman13/miniconda3/lib/python3.9/multiprocessing/pool.py\", line 114, in worker\n",
      "    task = get()\n",
      "  File \"/home/zetman13/miniconda3/lib/python3.9/multiprocessing/queues.py\", line 365, in get\n",
      "    with self._rlock:\n",
      "  File \"/home/zetman13/miniconda3/lib/python3.9/multiprocessing/queues.py\", line 365, in get\n",
      "    with self._rlock:\n",
      "  File \"/home/zetman13/miniconda3/lib/python3.9/multiprocessing/queues.py\", line 366, in get\n",
      "    res = self._reader.recv_bytes()\n",
      "  File \"/home/zetman13/miniconda3/lib/python3.9/multiprocessing/queues.py\", line 365, in get\n",
      "    with self._rlock:\n",
      "  File \"/home/zetman13/miniconda3/lib/python3.9/multiprocessing/queues.py\", line 365, in get\n",
      "    with self._rlock:\n",
      "  File \"/home/zetman13/miniconda3/lib/python3.9/multiprocessing/synchronize.py\", line 95, in __enter__\n",
      "    return self._semlock.__enter__()\n",
      "  File \"/home/zetman13/miniconda3/lib/python3.9/multiprocessing/synchronize.py\", line 95, in __enter__\n",
      "    return self._semlock.__enter__()\n",
      "  File \"/home/zetman13/miniconda3/lib/python3.9/multiprocessing/connection.py\", line 221, in recv_bytes\n",
      "    buf = self._recv_bytes(maxlength)\n",
      "  File \"/home/zetman13/miniconda3/lib/python3.9/multiprocessing/synchronize.py\", line 95, in __enter__\n",
      "    return self._semlock.__enter__()\n",
      "  File \"/home/zetman13/miniconda3/lib/python3.9/multiprocessing/synchronize.py\", line 95, in __enter__\n",
      "    return self._semlock.__enter__()\n",
      "KeyboardInterrupt\n",
      "KeyboardInterrupt\n",
      "KeyboardInterrupt\n",
      "  File \"/home/zetman13/miniconda3/lib/python3.9/multiprocessing/connection.py\", line 419, in _recv_bytes\n",
      "    buf = self._recv(4)\n",
      "KeyboardInterrupt\n",
      "  File \"/home/zetman13/miniconda3/lib/python3.9/multiprocessing/connection.py\", line 384, in _recv\n",
      "    chunk = read(handle, remaining)\n",
      "KeyboardInterrupt\n"
     ]
    }
   ],
   "source": [
    "from multiprocessing import Pool\n",
    "\n",
    "pool = Pool(processes=5)\n",
    "result = pool.map(slow_square, [1, 2, 3, 4, 5])\n",
    "\n",
    "print(result)"
   ]
  },
  {
   "cell_type": "markdown",
   "id": "cade83ea",
   "metadata": {},
   "source": [
    "У работы с процессами есть свои минусы: \n",
    "\n",
    "* Это затратно\n",
    "* Необходима синхронизация \n",
    "\n",
    "Можно попробовать подход решать задачи с помощью потоков, однако в Python есть одно существенное неудобство при работе с ними - это GIL. Однако, в питоне все же есть библиотека *threading* для работы с потоками.\n",
    "\n",
    "То, что мы делали в примерах до этого, можно понимать как разделение множества задач между работниками, при чем если один работник получил 2 задачи он будет выполнять их последовательно."
   ]
  },
  {
   "cell_type": "markdown",
   "metadata": {},
   "source": [
    "## IO-bound задачи\n",
    "\n",
    "Сейчас же перейдем к немного другой концепции - будем распределять множество задач одному работнику, причем пока одна из задач не требует непосредственного его участия он начинает делать следующую.\n",
    "\n",
    "Именно эта концепция и лежит в основе асинхронного решения I/O-bound задач. Множество задач внутри которых есть какое-либо ожидание, например ответа от сервера, запускаются по очереди, причем пока одна задача находится в режиме ожидания другая начинает работать. Стоит отметить, что все происходит в одном потоке. "
   ]
  },
  {
   "cell_type": "markdown",
   "metadata": {},
   "source": [
    "**Как же будет устроена работа асинхронного кода?** \n",
    "\n",
    "У нас будут функции, которые умеют засыпать и просыпаться в нужное время, а так же обработчик (*event loop*). Мы собираем функции в обработчик. Когда одна из функций засыпает управление получает обработчик, после чего отдает управление очередной функции.\n",
    "\n",
    "Рассмотрим простейший пример:"
   ]
  },
  {
   "cell_type": "code",
   "execution_count": 3,
   "id": "dc9c294f",
   "metadata": {},
   "outputs": [
    {
     "name": "stdout",
     "output_type": "stream",
     "text": [
      "0\n",
      "1\n",
      "2\n",
      "Go!\n",
      "3\n",
      "4\n"
     ]
    }
   ],
   "source": [
    "queue = []\n",
    "\n",
    "def counter():\n",
    "    cnt = 0\n",
    "    while True:\n",
    "        print(cnt)\n",
    "        cnt += 1\n",
    "        yield    \n",
    "        \n",
    "        \n",
    "def printer():\n",
    "    cnt = 1\n",
    "    while True:\n",
    "        if cnt%3 == 0:\n",
    "            print(\"Go!\")\n",
    "        cnt += 1\n",
    "        yield\n",
    "\n",
    "\n",
    "g1 = counter()\n",
    "queue.append(g1)\n",
    "\n",
    "g2 = printer()\n",
    "queue.append(g2)\n",
    "\n",
    "i = 0\n",
    "while True:\n",
    "    g = queue.pop(0)\n",
    "    time.sleep(0.5)\n",
    "    next(g)\n",
    "    queue.append(g)\n",
    "    i += 1\n",
    "    if i == 10: break"
   ]
  },
  {
   "cell_type": "markdown",
   "id": "72b829e7",
   "metadata": {},
   "source": [
    "В Python много библиотек для асинхронного программирования, наиболее популярными являются Tornado, Asyncio и Gevent. Давайте посмотрим, как работает Asyncio."
   ]
  },
  {
   "cell_type": "markdown",
   "id": "c224636c",
   "metadata": {},
   "source": [
    "## Asyncio ##"
   ]
  },
  {
   "cell_type": "code",
   "execution_count": 5,
   "id": "860c43be",
   "metadata": {},
   "outputs": [],
   "source": [
    "import asyncio"
   ]
  },
  {
   "cell_type": "markdown",
   "id": "e829a375",
   "metadata": {},
   "source": [
    "Объект корутины (асинхронная функция) объявляется с помощью `async def` и исполняется с помощью `await`: "
   ]
  },
  {
   "cell_type": "code",
   "execution_count": 6,
   "id": "4daa8660",
   "metadata": {},
   "outputs": [
    {
     "name": "stdout",
     "output_type": "stream",
     "text": [
      "1\n",
      "2\n",
      "3\n",
      "Go!\n"
     ]
    }
   ],
   "source": [
    "async def rocket():\n",
    "    print(1)\n",
    "    await asyncio.sleep(1)\n",
    "    print(2)\n",
    "    await asyncio.sleep(1)\n",
    "    print(3)\n",
    "    await asyncio.sleep(1)\n",
    "    print(\"Go!\")\n",
    "    \n",
    "await rocket()"
   ]
  },
  {
   "cell_type": "markdown",
   "id": "efc5f683",
   "metadata": {},
   "source": [
    "Заметим, что просто написав rocket() у нас ничего не выполнится. "
   ]
  },
  {
   "cell_type": "code",
   "execution_count": 8,
   "id": "4a786205",
   "metadata": {},
   "outputs": [
    {
     "data": {
      "text/plain": [
       "<coroutine object rocket at 0x7f97fc21b040>"
      ]
     },
     "execution_count": 8,
     "metadata": {},
     "output_type": "execute_result"
    }
   ],
   "source": [
    "rocket()"
   ]
  },
  {
   "cell_type": "markdown",
   "id": "738bd9a0",
   "metadata": {},
   "source": [
    "Разберем следующий пример:"
   ]
  },
  {
   "cell_type": "code",
   "execution_count": 8,
   "id": "678050f6",
   "metadata": {},
   "outputs": [
    {
     "name": "stdout",
     "output_type": "stream",
     "text": [
      "hello\n",
      "world\n",
      "Time: 3.007875919342041\n"
     ]
    }
   ],
   "source": [
    "async def say_after(delay, msg):\n",
    "    await asyncio.sleep(delay)\n",
    "    print(msg)\n",
    "\n",
    "async def main():\n",
    "    started = time.time()\n",
    "\n",
    "    await say_after(1, 'hello')\n",
    "    await say_after(2, 'world')\n",
    "\n",
    "    print(f\"Time: {time.time() - started}\")\n",
    "    \n",
    "await main()"
   ]
  },
  {
   "cell_type": "markdown",
   "id": "548a6008",
   "metadata": {},
   "source": [
    "Хм, что-то не то, ждем все три секунды, где же профит?\n",
    "\n",
    "Но для начала несколько слов про `Task()`."
   ]
  },
  {
   "cell_type": "markdown",
   "metadata": {},
   "source": [
    "`Task()` - это объект, который запускает корутину. Объект `Task` используется для запуска корутин в циклах событий при помощи оператора `await`. \n",
    "\n",
    "Циклы событий используют **совместное планирование**. Другими словами, цикл событий запускает одну задачу за раз. Пока объект задачи Task ожидает готовности, цикл событий запускает другие задачи, обратные вызовы или выполняет операции ввода-вывода.\n",
    "\n",
    "Теперь создадим задачи и посмотрим, исправило ли эту проблему :"
   ]
  },
  {
   "cell_type": "code",
   "execution_count": 14,
   "id": "f78f0415",
   "metadata": {},
   "outputs": [
    {
     "name": "stdout",
     "output_type": "stream",
     "text": [
      "hello\n",
      "world\n",
      "Time: 2.0049421787261963\n"
     ]
    }
   ],
   "source": [
    "async def main():\n",
    "    task1 = asyncio.create_task(  # в этот момент задача была запланирована и вскоре начнет выполняться\n",
    "        say_after(1, 'hello'))\n",
    "\n",
    "    task2 = asyncio.create_task(\n",
    "        say_after(2, 'world'))\n",
    "\n",
    "    started = time.time()\n",
    "\n",
    "    await task1  # а здесь мы лишь дожидаемся, пока задача завершится\n",
    "    await task2  # если закомментить строку выше, обе задачи все равно выполняться, поскольку task1 отработает раньше task2\n",
    "    \n",
    "    print(f\"Time: {time.time() - started}\")\n",
    "    \n",
    "await main()"
   ]
  },
  {
   "cell_type": "markdown",
   "id": "1a1da968",
   "metadata": {},
   "source": [
    "Ура !! Помогло !!"
   ]
  },
  {
   "cell_type": "markdown",
   "id": "5cc32875",
   "metadata": {},
   "source": [
    "Рассмотрим некоторые методы класса `Task()`:"
   ]
  },
  {
   "cell_type": "code",
   "execution_count": 25,
   "id": "dff45f45",
   "metadata": {},
   "outputs": [
    {
     "name": "stdout",
     "output_type": "stream",
     "text": [
      "hello\n"
     ]
    }
   ],
   "source": [
    "task = asyncio.create_task(\n",
    "    say_after(1, 'hello')\n",
    ")\n",
    "\n",
    "await task"
   ]
  },
  {
   "cell_type": "markdown",
   "id": "c22001d2",
   "metadata": {},
   "source": [
    "Метод `Task.cancelled()` возвращает `True`, если задача `Task` отменена.\n",
    "\n",
    "Задача отменяется, когда отмена была запрошена с помощью метода `Task.cancel()` и обернутая сопрограмма распространила переданное в нее исключение `asyncio.CancelledError`."
   ]
  },
  {
   "cell_type": "code",
   "execution_count": 14,
   "id": "151fdebd",
   "metadata": {},
   "outputs": [
    {
     "data": {
      "text/plain": [
       "False"
      ]
     },
     "execution_count": 14,
     "metadata": {},
     "output_type": "execute_result"
    }
   ],
   "source": [
    "task.cancelled()"
   ]
  },
  {
   "cell_type": "markdown",
   "id": "86848d2d",
   "metadata": {},
   "source": [
    "Метод `Task.done()` возвращает `True`, если задача `Task` выполнена.\n",
    "\n",
    "Задача считается выполненной, когда обернутая сопрограмма либо отработала и вернула результат, либо вызвала исключение, либо была отменена."
   ]
  },
  {
   "cell_type": "code",
   "execution_count": 16,
   "id": "9352d382",
   "metadata": {},
   "outputs": [
    {
     "data": {
      "text/plain": [
       "True"
      ]
     },
     "execution_count": 16,
     "metadata": {},
     "output_type": "execute_result"
    }
   ],
   "source": [
    "task.done()"
   ]
  },
  {
   "cell_type": "code",
   "execution_count": 15,
   "outputs": [],
   "source": [
    "long_task = asyncio.create_task(\n",
    "    say_after(10, 'hello')\n",
    ")"
   ],
   "metadata": {
    "collapsed": false,
    "pycharm": {
     "name": "#%%\n"
    }
   }
  },
  {
   "cell_type": "code",
   "execution_count": 21,
   "outputs": [
    {
     "data": {
      "text/plain": "True"
     },
     "execution_count": 21,
     "metadata": {},
     "output_type": "execute_result"
    }
   ],
   "source": [
    "long_task.done()"
   ],
   "metadata": {
    "collapsed": false,
    "pycharm": {
     "name": "#%%\n"
    }
   }
  },
  {
   "cell_type": "markdown",
   "id": "52180f4e",
   "metadata": {},
   "source": [
    "Метод `Task.set_name()` устанавливает имя для задачи `Task`. Аргументом значения может быть любой объект, который затем преобразуется в строку."
   ]
  },
  {
   "cell_type": "code",
   "execution_count": null,
   "id": "e3c1d954",
   "metadata": {
    "pycharm": {
     "is_executing": true
    }
   },
   "outputs": [],
   "source": [
    "task.set_name(123)  # начиная с python 3.8"
   ]
  },
  {
   "cell_type": "markdown",
   "id": "8e681f74",
   "metadata": {},
   "source": [
    "Метод `Task.get_name()` возвращает имя name задачи Task. Если имя задачи Task не было явно установлено, то по умолчанию оно генерируется во время создания:"
   ]
  },
  {
   "cell_type": "code",
   "execution_count": null,
   "id": "5c7e4e4a",
   "metadata": {
    "pycharm": {
     "is_executing": true
    }
   },
   "outputs": [],
   "source": [
    "task.get_name()  # начиная с python 3.8"
   ]
  },
  {
   "cell_type": "markdown",
   "id": "82f4c6df",
   "metadata": {},
   "source": [
    "Так же важно знать про объекты `Future`. Класс `asyncio.Future()` представляет собой конечный результат асинхронной операции. Класс `Task()` является подклассом класса `Future()`. "
   ]
  },
  {
   "cell_type": "markdown",
   "id": "71608d28",
   "metadata": {},
   "source": [
    "### Функция gather ###"
   ]
  },
  {
   "cell_type": "markdown",
   "id": "c99f4ae4",
   "metadata": {},
   "source": [
    "Функция `gather()` одновременно запускает объекты, переданные в функцию. Рассмотрим это на примере - мы хотим подключаться к пользователю и отправлять ему тестовое сообщение:"
   ]
  },
  {
   "cell_type": "code",
   "execution_count": 28,
   "id": "84afb145",
   "metadata": {},
   "outputs": [
    {
     "name": "stdout",
     "output_type": "stream",
     "text": [
      "Подключаюсь к 1\n",
      "Подключаюсь к 2\n",
      "Подключаюсь к 3\n",
      "Подключаюсь к 4\n",
      "Отправляю команду test пользователю 1\n",
      "Отправляю команду test пользователю 2\n",
      "Отправляю команду test пользователю 3\n",
      "Отправляю команду test пользователю 4\n"
     ]
    }
   ],
   "source": [
    "id_list = [1, 2, 3, 4]\n",
    "\n",
    "async def connect_to_user(usr_id):\n",
    "    print(f'Подключаюсь к {usr_id}')\n",
    "    await asyncio.sleep(1)\n",
    "    print(f'Отправляю команду test пользователю {usr_id}')\n",
    "    await asyncio.sleep(1)\n",
    "\n",
    "\n",
    "async def send_msg(id_list):\n",
    "    coroutines = map(connect_to_user, id_list)\n",
    "    result = await asyncio.gather(*coroutines, return_exceptions=False )\n",
    "    return result\n",
    "\n",
    "res = await send_msg(id_list)"
   ]
  },
  {
   "cell_type": "markdown",
   "id": "35ade121",
   "metadata": {},
   "source": [
    "А что произойдет, если попытка подключения окажется неудачной и выбросится исключение? Как мы будем его обрабатывать? \n",
    "\n",
    "Для этого есть аргумент `return_exceptions`:\n",
    "- `return_exceptions=False` (по умолчанию) - первое появившееся исключение, немедленно распространяется на ту задачу, в которой оно возникло в момент ожидания `asyncio.gather()`, при этом другие объекты в последовательности не будут отменены и продолжат выполнение.\n",
    "- `return_exceptions=True` - исключения обрабатываются так же, как успешные результаты и передаются в совокупный список результатов."
   ]
  },
  {
   "cell_type": "code",
   "execution_count": 24,
   "id": "6774d3ad",
   "metadata": {},
   "outputs": [
    {
     "name": "stdout",
     "output_type": "stream",
     "text": [
      "Подключаюсь к 1\n",
      "Подключаюсь к 2\n",
      "Подключаюсь к 3\n",
      "Подключаюсь к 4\n"
     ]
    },
    {
     "ename": "OSError",
     "evalue": "Не могу подключиться к 4",
     "output_type": "error",
     "traceback": [
      "\u001B[0;31m---------------------------------------------------------------------------\u001B[0m",
      "\u001B[0;31mOSError\u001B[0m                                   Traceback (most recent call last)",
      "\u001B[0;32m/tmp/ipykernel_1065/2930799797.py\u001B[0m in \u001B[0;36m<module>\u001B[0;34m\u001B[0m\n\u001B[1;32m     13\u001B[0m     \u001B[0;32mreturn\u001B[0m \u001B[0mresult\u001B[0m\u001B[0;34m\u001B[0m\u001B[0;34m\u001B[0m\u001B[0m\n\u001B[1;32m     14\u001B[0m \u001B[0;34m\u001B[0m\u001B[0m\n\u001B[0;32m---> 15\u001B[0;31m \u001B[0;32mawait\u001B[0m \u001B[0msend_msg\u001B[0m\u001B[0;34m(\u001B[0m\u001B[0mid_list\u001B[0m\u001B[0;34m,\u001B[0m \u001B[0;32mFalse\u001B[0m\u001B[0;34m)\u001B[0m\u001B[0;34m\u001B[0m\u001B[0;34m\u001B[0m\u001B[0m\n\u001B[0m",
      "\u001B[0;32m/tmp/ipykernel_1065/2930799797.py\u001B[0m in \u001B[0;36msend_msg\u001B[0;34m(id_list, return_ex)\u001B[0m\n\u001B[1;32m     10\u001B[0m \u001B[0;32masync\u001B[0m \u001B[0;32mdef\u001B[0m \u001B[0msend_msg\u001B[0m\u001B[0;34m(\u001B[0m\u001B[0mid_list\u001B[0m\u001B[0;34m,\u001B[0m \u001B[0mreturn_ex\u001B[0m \u001B[0;34m=\u001B[0m \u001B[0;32mFalse\u001B[0m\u001B[0;34m)\u001B[0m\u001B[0;34m:\u001B[0m\u001B[0;34m\u001B[0m\u001B[0;34m\u001B[0m\u001B[0m\n\u001B[1;32m     11\u001B[0m     \u001B[0mcoroutines\u001B[0m \u001B[0;34m=\u001B[0m \u001B[0mmap\u001B[0m\u001B[0;34m(\u001B[0m\u001B[0mconnect_to_user\u001B[0m\u001B[0;34m,\u001B[0m \u001B[0mid_list\u001B[0m\u001B[0;34m)\u001B[0m\u001B[0;34m\u001B[0m\u001B[0;34m\u001B[0m\u001B[0m\n\u001B[0;32m---> 12\u001B[0;31m     \u001B[0mresult\u001B[0m \u001B[0;34m=\u001B[0m \u001B[0;32mawait\u001B[0m \u001B[0masyncio\u001B[0m\u001B[0;34m.\u001B[0m\u001B[0mgather\u001B[0m\u001B[0;34m(\u001B[0m\u001B[0;34m*\u001B[0m\u001B[0mcoroutines\u001B[0m\u001B[0;34m,\u001B[0m\u001B[0mreturn_exceptions\u001B[0m\u001B[0;34m=\u001B[0m\u001B[0mreturn_ex\u001B[0m\u001B[0;34m)\u001B[0m\u001B[0;34m\u001B[0m\u001B[0;34m\u001B[0m\u001B[0m\n\u001B[0m\u001B[1;32m     13\u001B[0m     \u001B[0;32mreturn\u001B[0m \u001B[0mresult\u001B[0m\u001B[0;34m\u001B[0m\u001B[0;34m\u001B[0m\u001B[0m\n\u001B[1;32m     14\u001B[0m \u001B[0;34m\u001B[0m\u001B[0m\n",
      "\u001B[0;32m/tmp/ipykernel_1065/2930799797.py\u001B[0m in \u001B[0;36mconnect_to_user\u001B[0;34m(usr_id)\u001B[0m\n\u001B[1;32m      2\u001B[0m     \u001B[0mprint\u001B[0m\u001B[0;34m(\u001B[0m\u001B[0;34mf'Подключаюсь к {usr_id}'\u001B[0m\u001B[0;34m)\u001B[0m\u001B[0;34m\u001B[0m\u001B[0;34m\u001B[0m\u001B[0m\n\u001B[1;32m      3\u001B[0m     \u001B[0;32mif\u001B[0m \u001B[0musr_id\u001B[0m \u001B[0;34m==\u001B[0m \u001B[0;36m4\u001B[0m\u001B[0;34m:\u001B[0m\u001B[0;34m\u001B[0m\u001B[0;34m\u001B[0m\u001B[0m\n\u001B[0;32m----> 4\u001B[0;31m         \u001B[0;32mraise\u001B[0m \u001B[0mOSError\u001B[0m\u001B[0;34m(\u001B[0m\u001B[0;34mf'Не могу подключиться к {usr_id}'\u001B[0m\u001B[0;34m)\u001B[0m\u001B[0;34m\u001B[0m\u001B[0;34m\u001B[0m\u001B[0m\n\u001B[0m\u001B[1;32m      5\u001B[0m     \u001B[0;32mawait\u001B[0m \u001B[0masyncio\u001B[0m\u001B[0;34m.\u001B[0m\u001B[0msleep\u001B[0m\u001B[0;34m(\u001B[0m\u001B[0;36m1\u001B[0m\u001B[0;34m)\u001B[0m\u001B[0;34m\u001B[0m\u001B[0;34m\u001B[0m\u001B[0m\n\u001B[1;32m      6\u001B[0m     \u001B[0mprint\u001B[0m\u001B[0;34m(\u001B[0m\u001B[0;34mf'Отправляю команду test пользователю {usr_id}'\u001B[0m\u001B[0;34m)\u001B[0m\u001B[0;34m\u001B[0m\u001B[0;34m\u001B[0m\u001B[0m\n",
      "\u001B[0;31mOSError\u001B[0m: Не могу подключиться к 4"
     ]
    },
    {
     "name": "stdout",
     "output_type": "stream",
     "text": [
      "Отправляю команду test пользователю 1\n",
      "Отправляю команду test пользователю 2\n",
      "Отправляю команду test пользователю 3\n"
     ]
    }
   ],
   "source": [
    "async def connect_to_user(usr_id):\n",
    "    print(f'Подключаюсь к {usr_id}')\n",
    "    if usr_id == 4:\n",
    "        raise OSError(f'Не могу подключиться к {usr_id}')\n",
    "    await asyncio.sleep(1)\n",
    "    print(f'Отправляю команду test пользователю {usr_id}')\n",
    "    await asyncio.sleep(1)\n",
    "\n",
    "    \n",
    "async def send_msg(id_list, return_ex = False):\n",
    "    coroutines = map(connect_to_user, id_list)\n",
    "    result = await asyncio.gather(*coroutines,return_exceptions=return_ex)\n",
    "    return result\n",
    "\n",
    "await send_msg(id_list, False)"
   ]
  },
  {
   "cell_type": "code",
   "execution_count": 25,
   "id": "73f5573c",
   "metadata": {},
   "outputs": [
    {
     "name": "stdout",
     "output_type": "stream",
     "text": [
      "Подключаюсь к 1\n",
      "Подключаюсь к 2\n",
      "Подключаюсь к 3\n",
      "Подключаюсь к 4\n",
      "Отправляю команду test пользователю 1\n",
      "Отправляю команду test пользователю 2\n",
      "Отправляю команду test пользователю 3\n"
     ]
    },
    {
     "data": {
      "text/plain": [
       "[None, None, None, OSError('Не могу подключиться к 4')]"
      ]
     },
     "execution_count": 25,
     "metadata": {},
     "output_type": "execute_result"
    }
   ],
   "source": [
    "await send_msg(id_list, True)"
   ]
  },
  {
   "cell_type": "markdown",
   "id": "e624c5ad",
   "metadata": {},
   "source": [
    "### Функция shield ###"
   ]
  },
  {
   "cell_type": "markdown",
   "id": "4aee345f",
   "metadata": {},
   "source": [
    "Функция `shield` защищает задачи от отмены методом `Task.cancel()`:"
   ]
  },
  {
   "cell_type": "code",
   "execution_count": 26,
   "id": "16afba39",
   "metadata": {},
   "outputs": [
    {
     "name": "stdout",
     "output_type": "stream",
     "text": [
      "Старт задачи...\n",
      "Отмена!\n",
      "А что со мной хотели сделать?\n"
     ]
    }
   ],
   "source": [
    "async def start_task():\n",
    "    print('Старт задачи...')\n",
    "    await asyncio.sleep(2)\n",
    "    print('А что со мной хотели сделать?')\n",
    "\n",
    "async def cancel(some_task):\n",
    "    await asyncio.sleep(0.5)\n",
    "    some_task.cancel()\n",
    "    print('Отмена!')\n",
    "\n",
    "async def main():\n",
    "    real_task = asyncio.create_task(start_task())\n",
    "    shield = asyncio.shield(real_task)\n",
    "    asyncio.create_task(cancel(shield))\n",
    "    await real_task\n",
    "\n",
    "\n",
    "await main()"
   ]
  },
  {
   "cell_type": "markdown",
   "id": "b9ea45f3",
   "metadata": {},
   "source": [
    "### Функция wait_for ###"
   ]
  },
  {
   "cell_type": "markdown",
   "id": "306536e8",
   "metadata": {},
   "source": [
    "Следит за тем, чтобы корутина не выполнялась больше заданного времени. Если истекает таймаут, то отменяет задачу и бросает `TimeoutError`.\n",
    "\n",
    "Если необходимо избежать отмены задачи, то лучше обренуть в `shield()`."
   ]
  },
  {
   "cell_type": "code",
   "execution_count": 28,
   "id": "5f0b4224",
   "metadata": {},
   "outputs": [
    {
     "name": "stdout",
     "output_type": "stream",
     "text": [
      "Какая-то не очень быстрая ...\n"
     ]
    }
   ],
   "source": [
    "async def fast_func():\n",
    "    await asyncio.sleep(360)\n",
    "    print('Да не долго я работаю')\n",
    "\n",
    "async def main():\n",
    "    try:\n",
    "        await asyncio.wait_for(fast_func(), timeout=5.0)\n",
    "    except asyncio.TimeoutError:\n",
    "        print('Какая-то не очень быстрая ...')\n",
    "\n",
    "await main()"
   ]
  },
  {
   "cell_type": "markdown",
   "id": "ecee1b30",
   "metadata": {},
   "source": [
    "### Функция wait ###"
   ]
  },
  {
   "cell_type": "markdown",
   "id": "964bd231",
   "metadata": {},
   "source": [
    "Выполняет корутины до таймаута или до параметра функции `return_when`. \n",
    "\n",
    "Возваращает 2 множества корутин: выполненных и нет."
   ]
  },
  {
   "cell_type": "code",
   "execution_count": 29,
   "id": "2b998942",
   "metadata": {},
   "outputs": [
    {
     "name": "stdout",
     "output_type": "stream",
     "text": [
      "hello ...\n",
      "{<Task finished coro=<async-def-wrapper.<locals>.foo() done, defined at /var/folders/y4/cg33f0j16psf49d79blwc81srjjwcd/T/ipykernel_39409/2465487325.py:4> result=None>}\n",
      "{<Task pending coro=<async-def-wrapper.<locals>.bar() running at /var/folders/y4/cg33f0j16psf49d79blwc81srjjwcd/T/ipykernel_39409/2465487325.py:9> wait_for=<Future pending cb=[<TaskWakeupMethWrapper object at 0x7feb22f6a990>()]>>}\n"
     ]
    }
   ],
   "source": [
    "async def foo():\n",
    "    await asyncio.sleep(1)\n",
    "    print('hello ...')\n",
    "    \n",
    "async def bar():\n",
    "    await asyncio.sleep(2)\n",
    "    print('... world!')\n",
    "    \n",
    "print_hello = asyncio.create_task(foo())\n",
    "print_world = asyncio.create_task(bar())\n",
    "\n",
    "done, pending = await asyncio.wait({print_hello,print_world}, return_when=asyncio.FIRST_COMPLETED)\n",
    "\n",
    "print(done)\n",
    "print(pending)"
   ]
  },
  {
   "cell_type": "code",
   "execution_count": 30,
   "id": "51ab77ff",
   "metadata": {},
   "outputs": [
    {
     "name": "stdout",
     "output_type": "stream",
     "text": [
      "hello ...\n",
      "{<Task finished coro=<async-def-wrapper.<locals>.foo() done, defined at /var/folders/y4/cg33f0j16psf49d79blwc81srjjwcd/T/ipykernel_39409/2465487325.py:4> result=None>}\n",
      "{<Task pending coro=<async-def-wrapper.<locals>.bar() running at /var/folders/y4/cg33f0j16psf49d79blwc81srjjwcd/T/ipykernel_39409/2465487325.py:9> wait_for=<Future pending cb=[<TaskWakeupMethWrapper object at 0x7feb22f98610>()]>>}\n"
     ]
    }
   ],
   "source": [
    "print_hello = asyncio.create_task(foo())\n",
    "print_world = asyncio.create_task(bar())\n",
    "\n",
    "done, pending = await asyncio.wait({print_hello,print_world}, timeout=1.5)\n",
    "\n",
    "print(done)\n",
    "print(pending)"
   ]
  },
  {
   "cell_type": "code",
   "execution_count": 31,
   "id": "e33159a9",
   "metadata": {},
   "outputs": [
    {
     "name": "stdout",
     "output_type": "stream",
     "text": [
      "hello ...\n",
      "... world!\n",
      "{<Task finished coro=<async-def-wrapper.<locals>.bar() done, defined at /var/folders/y4/cg33f0j16psf49d79blwc81srjjwcd/T/ipykernel_39409/2465487325.py:8> result=None>, <Task finished coro=<async-def-wrapper.<locals>.foo() done, defined at /var/folders/y4/cg33f0j16psf49d79blwc81srjjwcd/T/ipykernel_39409/2465487325.py:4> result=None>}\n",
      "set()\n"
     ]
    }
   ],
   "source": [
    "print_hello = asyncio.create_task(foo())\n",
    "print_world = asyncio.create_task(bar())\n",
    "\n",
    "done, pending = await asyncio.wait({print_hello,print_world}, return_when=asyncio.ALL_COMPLETED)\n",
    "\n",
    "print(done)\n",
    "print(pending)"
   ]
  },
  {
   "cell_type": "markdown",
   "id": "22a82ecd",
   "metadata": {},
   "source": [
    "**Замечание** - `wait` в отличии от `wait_for` не отменяет задачи."
   ]
  },
  {
   "cell_type": "markdown",
   "id": "5c294101",
   "metadata": {},
   "source": [
    "Полезные ссылки по теме семинара:\n",
    "* Документация Asyncio : https://docs.python.org/3/library/asyncio.html\n",
    "* Документация Tornado : https://www.tornadoweb.org/en/stable/guide/async.html\n",
    "* Документация Gevent : http://www.gevent.org/index.html\n",
    "* Документация Multiproccesing : https://docs.python.org/3/library/multiprocessing.html\n",
    "* Документация Threading: https://docs.python.org/3/library/threading.html\n",
    "* GIL: https://wiki.python.org/moin/GlobalInterpreterLock"
   ]
  }
 ],
 "metadata": {
  "kernelspec": {
   "display_name": "Python 3 (ipykernel)",
   "language": "python",
   "name": "python3"
  },
  "language_info": {
   "codemirror_mode": {
    "name": "ipython",
    "version": 3
   },
   "file_extension": ".py",
   "mimetype": "text/x-python",
   "name": "python",
   "nbconvert_exporter": "python",
   "pygments_lexer": "ipython3",
   "version": "3.9.5"
  }
 },
 "nbformat": 4,
 "nbformat_minor": 5
}