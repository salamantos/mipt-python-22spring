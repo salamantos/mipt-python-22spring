{
 "cells": [
  {
   "cell_type": "markdown",
   "metadata": {
    "slideshow": {
     "slide_type": "slide"
    }
   },
   "source": [
    "# Классы (part I)"
   ]
  },
  {
   "cell_type": "markdown",
   "metadata": {},
   "source": [
    "## Атрибуты и методы"
   ]
  },
  {
   "cell_type": "code",
   "execution_count": 1,
   "metadata": {},
   "outputs": [],
   "source": [
    "class MyLittleClass:\n",
    "    color = \"blue\"\n",
    "    \n",
    "    def set_color(self, color_):\n",
    "        color = color_\n",
    "        print('set color to {}'.format(color))\n"
   ]
  },
  {
   "cell_type": "code",
   "execution_count": 6,
   "metadata": {
    "slideshow": {
     "slide_type": "subslide"
    }
   },
   "outputs": [
    {
     "name": "stdout",
     "output_type": "stream",
     "text": [
      "blue\n",
      "set color to red\n",
      "blue\n"
     ]
    }
   ],
   "source": [
    "obj = MyLittleClass()\n",
    "print(obj.color)\n",
    "\n",
    "obj.set_color('red')\n",
    "print(obj.color)"
   ]
  },
  {
   "cell_type": "markdown",
   "metadata": {},
   "source": [
    "__АаАААааа!!! Почему так произошло?!!!__\n",
    "\n",
    "Потому что обращение к атрибутам класса должно иметь форму `self.attribute_name`, а `color` в методе `set_color` -- просто локальная переменная :)"
   ]
  },
  {
   "cell_type": "code",
   "execution_count": 4,
   "metadata": {
    "slideshow": {
     "slide_type": "subslide"
    }
   },
   "outputs": [],
   "source": [
    "class MyLittleClass2:\n",
    "    color = \"blue\"\n",
    "    \n",
    "    def set_color(self, color_):\n",
    "        self.color = color_  # найдите десять отличий :)\n",
    "        print('set color to {}'.format(self.color))"
   ]
  },
  {
   "cell_type": "code",
   "execution_count": 5,
   "metadata": {},
   "outputs": [
    {
     "name": "stdout",
     "output_type": "stream",
     "text": [
      "blue\n",
      "set color to red\n",
      "red\n"
     ]
    }
   ],
   "source": [
    "obj = MyLittleClass2()\n",
    "print(obj.color)\n",
    "\n",
    "obj.set_color('red')\n",
    "print(obj.color)"
   ]
  },
  {
   "cell_type": "code",
   "execution_count": 6,
   "metadata": {
    "slideshow": {
     "slide_type": "subslide"
    }
   },
   "outputs": [
    {
     "name": "stdout",
     "output_type": "stream",
     "text": [
      "green\n"
     ]
    }
   ],
   "source": [
    "# а можно было так, но хороший тон писать методы-геттеры и методы-сеттеры\n",
    "obj.color = 'green'\n",
    "print(obj.color)"
   ]
  },
  {
   "cell_type": "markdown",
   "metadata": {
    "slideshow": {
     "slide_type": "fragment"
    }
   },
   "source": [
    "__Q:__ Динамически определить атрибуты, которых вообще не было в определении класса?\n",
    "\n",
    "__A:__ Легко!"
   ]
  },
  {
   "cell_type": "code",
   "execution_count": 7,
   "metadata": {},
   "outputs": [
    {
     "name": "stdout",
     "output_type": "stream",
     "text": [
      "42\n"
     ]
    }
   ],
   "source": [
    "obj.some_attribute = 42\n",
    "print(obj.some_attribute)"
   ]
  },
  {
   "cell_type": "markdown",
   "metadata": {
    "slideshow": {
     "slide_type": "subslide"
    }
   },
   "source": [
    "__Q:__ А а что значит self в определении метода?\n",
    "\n",
    "__A:__ Когда мы вызываем метод как obj.methodname(), первым аргументом передается ссылка на obj (в качестве self)"
   ]
  },
  {
   "cell_type": "code",
   "execution_count": 8,
   "metadata": {},
   "outputs": [],
   "source": [
    "class MyLittleClass3:\n",
    "    def method_without_self(arg):\n",
    "        print(arg)\n",
    "        \n",
    "    def method_with_self(self, arg):\n",
    "        print(arg)"
   ]
  },
  {
   "cell_type": "code",
   "execution_count": 9,
   "metadata": {},
   "outputs": [
    {
     "name": "stdout",
     "output_type": "stream",
     "text": [
      "i am an argument\n"
     ]
    },
    {
     "ename": "TypeError",
     "evalue": "method_without_self() takes 1 positional argument but 2 were given",
     "output_type": "error",
     "traceback": [
      "\u001B[0;31m---------------------------------------------------------------------------\u001B[0m",
      "\u001B[0;31mTypeError\u001B[0m                                 Traceback (most recent call last)",
      "\u001B[0;32m<ipython-input-9-ca78227daecf>\u001B[0m in \u001B[0;36m<module>\u001B[0;34m()\u001B[0m\n\u001B[1;32m      1\u001B[0m \u001B[0mobj\u001B[0m \u001B[0;34m=\u001B[0m \u001B[0mMyLittleClass3\u001B[0m\u001B[0;34m(\u001B[0m\u001B[0;34m)\u001B[0m\u001B[0;34m\u001B[0m\u001B[0m\n\u001B[1;32m      2\u001B[0m \u001B[0mobj\u001B[0m\u001B[0;34m.\u001B[0m\u001B[0mmethod_with_self\u001B[0m\u001B[0;34m(\u001B[0m\u001B[0;34m'i am an argument'\u001B[0m\u001B[0;34m)\u001B[0m\u001B[0;34m\u001B[0m\u001B[0m\n\u001B[0;32m----> 3\u001B[0;31m \u001B[0mobj\u001B[0m\u001B[0;34m.\u001B[0m\u001B[0mmethod_without_self\u001B[0m\u001B[0;34m(\u001B[0m\u001B[0;34m'i am another argument'\u001B[0m\u001B[0;34m)\u001B[0m \u001B[0;31m# здесь мы на самом деле передаем по два аргумента, self и arg\u001B[0m\u001B[0;34m\u001B[0m\u001B[0m\n\u001B[0m",
      "\u001B[0;31mTypeError\u001B[0m: method_without_self() takes 1 positional argument but 2 were given"
     ]
    }
   ],
   "source": [
    "obj = MyLittleClass3()\n",
    "obj.method_with_self('i am an argument')\n",
    "obj.method_without_self('i am another argument') # здесь мы на самом деле передаем по два аргумента, self и arg"
   ]
  },
  {
   "cell_type": "markdown",
   "metadata": {
    "slideshow": {
     "slide_type": "subslide"
    }
   },
   "source": [
    "__Q:__ А как же тогда их вызывать?!\n",
    "\n",
    "__A:__ Они не привязаны к инстансу (потому что не имеют доступа к его локальным данным), зато привязаны к классу"
   ]
  },
  {
   "cell_type": "code",
   "execution_count": 10,
   "metadata": {
    "slideshow": {
     "slide_type": "fragment"
    }
   },
   "outputs": [
    {
     "name": "stdout",
     "output_type": "stream",
     "text": [
      "i am another argument\n"
     ]
    }
   ],
   "source": [
    "MyLittleClass3.method_without_self('i am another argument') # а здесь мы передаем только один аргумент"
   ]
  },
  {
   "cell_type": "markdown",
   "metadata": {
    "slideshow": {
     "slide_type": "subslide"
    }
   },
   "source": [
    "__Q:__ Можно ли \"оторвать\" метод от инстанса?\n",
    "\n",
    "__A:__ Ну, попробуем"
   ]
  },
  {
   "cell_type": "code",
   "execution_count": 11,
   "metadata": {
    "slideshow": {
     "slide_type": "fragment"
    }
   },
   "outputs": [
    {
     "name": "stdout",
     "output_type": "stream",
     "text": [
      "hello\n"
     ]
    }
   ],
   "source": [
    "func = MyLittleClass3.method_without_self\n",
    "func(\"hello\")"
   ]
  },
  {
   "cell_type": "code",
   "execution_count": 12,
   "metadata": {
    "slideshow": {
     "slide_type": "subslide"
    }
   },
   "outputs": [
    {
     "ename": "TypeError",
     "evalue": "method_with_self() missing 1 required positional argument: 'arg'",
     "output_type": "error",
     "traceback": [
      "\u001B[0;31m---------------------------------------------------------------------------\u001B[0m",
      "\u001B[0;31mTypeError\u001B[0m                                 Traceback (most recent call last)",
      "\u001B[0;32m<ipython-input-12-cd09cf0e0ae2>\u001B[0m in \u001B[0;36m<module>\u001B[0;34m()\u001B[0m\n\u001B[1;32m      1\u001B[0m \u001B[0mfunc2\u001B[0m \u001B[0;34m=\u001B[0m \u001B[0mMyLittleClass3\u001B[0m\u001B[0;34m.\u001B[0m\u001B[0mmethod_with_self\u001B[0m\u001B[0;34m\u001B[0m\u001B[0m\n\u001B[0;32m----> 2\u001B[0;31m \u001B[0mfunc2\u001B[0m\u001B[0;34m(\u001B[0m\u001B[0;34m\"hello\"\u001B[0m\u001B[0;34m)\u001B[0m \u001B[0;31m# передаем один аргумент\u001B[0m\u001B[0;34m\u001B[0m\u001B[0m\n\u001B[0m",
      "\u001B[0;31mTypeError\u001B[0m: method_with_self() missing 1 required positional argument: 'arg'"
     ]
    }
   ],
   "source": [
    "func2 = MyLittleClass3.method_with_self\n",
    "func2(\"hello\") # передаем один аргумент"
   ]
  },
  {
   "cell_type": "code",
   "execution_count": 13,
   "metadata": {
    "slideshow": {
     "slide_type": "fragment"
    }
   },
   "outputs": [
    {
     "name": "stdout",
     "output_type": "stream",
     "text": [
      "hello\n"
     ]
    }
   ],
   "source": [
    "obj = MyLittleClass3()\n",
    "func2(obj, \"hello\") # ой, нам же ещё нужен объект для self!"
   ]
  },
  {
   "cell_type": "markdown",
   "metadata": {
    "slideshow": {
     "slide_type": "subslide"
    }
   },
   "source": [
    "__Q:__ А наоборот?\n",
    "\n",
    "__A:__ Да это же питон. Конечно, можно!"
   ]
  },
  {
   "cell_type": "code",
   "execution_count": 14,
   "metadata": {},
   "outputs": [
    {
     "ename": "AttributeError",
     "evalue": "'MyLittleClass3' object has no attribute 'get_color'",
     "output_type": "error",
     "traceback": [
      "\u001B[0;31m---------------------------------------------------------------------------\u001B[0m",
      "\u001B[0;31mAttributeError\u001B[0m                            Traceback (most recent call last)",
      "\u001B[0;32m<ipython-input-14-78f1df7c55df>\u001B[0m in \u001B[0;36m<module>\u001B[0;34m()\u001B[0m\n\u001B[0;32m----> 1\u001B[0;31m \u001B[0mobj\u001B[0m\u001B[0;34m.\u001B[0m\u001B[0mget_color\u001B[0m\u001B[0;34m(\u001B[0m\u001B[0;34m)\u001B[0m\u001B[0;34m\u001B[0m\u001B[0m\n\u001B[0m",
      "\u001B[0;31mAttributeError\u001B[0m: 'MyLittleClass3' object has no attribute 'get_color'"
     ]
    }
   ],
   "source": [
    "obj.get_color()"
   ]
  },
  {
   "cell_type": "code",
   "execution_count": 15,
   "metadata": {
    "slideshow": {
     "slide_type": "subslide"
    }
   },
   "outputs": [
    {
     "ename": "AttributeError",
     "evalue": "'MyLittleClass3' object has no attribute 'color'",
     "output_type": "error",
     "traceback": [
      "\u001B[0;31m---------------------------------------------------------------------------\u001B[0m",
      "\u001B[0;31mAttributeError\u001B[0m                            Traceback (most recent call last)",
      "\u001B[0;32m<ipython-input-15-b7cf1c2d2966>\u001B[0m in \u001B[0;36m<module>\u001B[0;34m()\u001B[0m\n\u001B[1;32m      4\u001B[0m \u001B[0mMyLittleClass3\u001B[0m\u001B[0;34m.\u001B[0m\u001B[0mget_color\u001B[0m \u001B[0;34m=\u001B[0m \u001B[0mget_color_function\u001B[0m\u001B[0;34m\u001B[0m\u001B[0m\n\u001B[1;32m      5\u001B[0m \u001B[0mobj\u001B[0m \u001B[0;34m=\u001B[0m \u001B[0mMyLittleClass3\u001B[0m\u001B[0;34m(\u001B[0m\u001B[0;34m)\u001B[0m\u001B[0;34m\u001B[0m\u001B[0m\n\u001B[0;32m----> 6\u001B[0;31m \u001B[0mobj\u001B[0m\u001B[0;34m.\u001B[0m\u001B[0mget_color\u001B[0m\u001B[0;34m(\u001B[0m\u001B[0;34m)\u001B[0m\u001B[0;34m\u001B[0m\u001B[0m\n\u001B[0m",
      "\u001B[0;32m<ipython-input-15-b7cf1c2d2966>\u001B[0m in \u001B[0;36mget_color_function\u001B[0;34m(self)\u001B[0m\n\u001B[1;32m      1\u001B[0m \u001B[0;32mdef\u001B[0m \u001B[0mget_color_function\u001B[0m\u001B[0;34m(\u001B[0m\u001B[0mself\u001B[0m\u001B[0;34m)\u001B[0m\u001B[0;34m:\u001B[0m\u001B[0;34m\u001B[0m\u001B[0m\n\u001B[0;32m----> 2\u001B[0;31m     \u001B[0;32mreturn\u001B[0m \u001B[0mself\u001B[0m\u001B[0;34m.\u001B[0m\u001B[0mcolor\u001B[0m\u001B[0;34m\u001B[0m\u001B[0m\n\u001B[0m\u001B[1;32m      3\u001B[0m \u001B[0;34m\u001B[0m\u001B[0m\n\u001B[1;32m      4\u001B[0m \u001B[0mMyLittleClass3\u001B[0m\u001B[0;34m.\u001B[0m\u001B[0mget_color\u001B[0m \u001B[0;34m=\u001B[0m \u001B[0mget_color_function\u001B[0m\u001B[0;34m\u001B[0m\u001B[0m\n\u001B[1;32m      5\u001B[0m \u001B[0mobj\u001B[0m \u001B[0;34m=\u001B[0m \u001B[0mMyLittleClass3\u001B[0m\u001B[0;34m(\u001B[0m\u001B[0;34m)\u001B[0m\u001B[0;34m\u001B[0m\u001B[0m\n",
      "\u001B[0;31mAttributeError\u001B[0m: 'MyLittleClass3' object has no attribute 'color'"
     ]
    }
   ],
   "source": [
    "def get_color_function(self):\n",
    "    return self.color\n",
    "\n",
    "MyLittleClass3.get_color = get_color_function\n",
    "obj = MyLittleClass3()\n",
    "obj.get_color()"
   ]
  },
  {
   "cell_type": "markdown",
   "metadata": {
    "slideshow": {
     "slide_type": "subslide"
    }
   },
   "source": [
    "Ах да, цвета-то у нас нет. Но не беда, это же питон!"
   ]
  },
  {
   "cell_type": "code",
   "execution_count": 16,
   "metadata": {},
   "outputs": [
    {
     "data": {
      "text/plain": [
       "'pink'"
      ]
     },
     "execution_count": 16,
     "metadata": {},
     "output_type": "execute_result"
    }
   ],
   "source": [
    "obj.color = 'pink'\n",
    "obj.get_color()"
   ]
  },
  {
   "cell_type": "markdown",
   "metadata": {
    "slideshow": {
     "slide_type": "subslide"
    }
   },
   "source": [
    "__Q:__ А как же узнать, что мы уже определили, а что нет?\n",
    "\n",
    "__A:__ Легко!"
   ]
  },
  {
   "cell_type": "code",
   "execution_count": 19,
   "metadata": {},
   "outputs": [
    {
     "name": "stdout",
     "output_type": "stream",
     "text": [
      "['__class__', '__delattr__', '__dict__', '__dir__', '__doc__', '__eq__', '__format__', '__ge__', '__getattribute__', '__gt__', '__hash__', '__init__', '__le__', '__lt__', '__module__', '__ne__', '__new__', '__reduce__', '__reduce_ex__', '__repr__', '__setattr__', '__sizeof__', '__str__', '__subclasshook__', '__weakref__', 'color', 'get_color', 'method_with_self', 'method_without_self']\n"
     ]
    }
   ],
   "source": [
    "print(dir(obj))"
   ]
  },
  {
   "cell_type": "code",
   "execution_count": 24,
   "metadata": {
    "slideshow": {
     "slide_type": "subslide"
    }
   },
   "outputs": [
    {
     "name": "stdout",
     "output_type": "stream",
     "text": [
      "['__class__', '__delattr__', '__dir__', '__eq__', '__format__', '__ge__', '__getattribute__', '__gt__', '__hash__', '__init__', '__le__', '__lt__', '__ne__', '__new__', '__reduce__', '__reduce_ex__', '__repr__', '__setattr__', '__sizeof__', '__str__', '__subclasshook__', 'get_color', 'method_with_self', 'method_without_self']\n"
     ]
    }
   ],
   "source": [
    "# оставим только методы\n",
    "print([name for name in dir(obj) if callable(getattr(obj, name))])"
   ]
  },
  {
   "cell_type": "code",
   "execution_count": 8,
   "metadata": {
    "slideshow": {
     "slide_type": "subslide"
    }
   },
   "outputs": [
    {
     "name": "stdout",
     "output_type": "stream",
     "text": [
      "[]\n",
      "[]\n",
      "['obj']\n",
      "['ClassWithNothing', 'In', 'MyLittleClass', 'Out', '_', '__', '___', '__builtin__', '__builtins__', '__doc__', '__loader__', '__name__', '__package__', '__spec__', '_dh', '_i', '_i1', '_i2', '_i3', '_i4', '_i5', '_i6', '_i7', '_i8', '_ih', '_ii', '_iii', '_oh', '_pydevd_bundle', 'exit', 'get_ipython', 'nobject', 'obj', 'print_custom_attrs', 'pydev_jupyter_vars', 'quit', 'remove_imported_pydev_package', 'sys']\n"
     ]
    }
   ],
   "source": [
    "class ClassWithNothing:\n",
    "    pass\n",
    "\n",
    "nobject = ClassWithNothing()\n",
    "\n",
    "def print_custom_attrs(obj=None):\n",
    "    if obj is None:\n",
    "        # в локальной области видимости!\n",
    "        attrs = dir()\n",
    "    else:\n",
    "        attrs = dir(obj)\n",
    "    print([name for name in attrs if not name.startswith('__')])\n",
    "    \n",
    "print_custom_attrs(nobject)\n",
    "print_custom_attrs(ClassWithNothing)\n",
    "print_custom_attrs()\n",
    "print(dir())"
   ]
  },
  {
   "cell_type": "code",
   "execution_count": 1,
   "metadata": {
    "slideshow": {
     "slide_type": "subslide"
    }
   },
   "outputs": [
    {
     "name": "stdout",
     "output_type": "stream",
     "text": [
      "Help on built-in function dir in module builtins:\n",
      "\n",
      "dir(...)\n",
      "    dir([object]) -> list of strings\n",
      "    \n",
      "    If called without an argument, return the names in the current scope.\n",
      "    Else, return an alphabetized list of names comprising (some of) the attributes\n",
      "    of the given object, and of attributes reachable from it.\n",
      "    If the object supplies a method named __dir__, it will be used; otherwise\n",
      "    the default dir() logic is used and returns:\n",
      "      for a module object: the module's attributes.\n",
      "      for a class object:  its attributes, and recursively the attributes\n",
      "        of its bases.\n",
      "      for any other object: its attributes, its class's attributes, and\n",
      "        recursively the attributes of its class's base classes.\n",
      "\n"
     ]
    }
   ],
   "source": [
    "help(dir)\n"
   ]
  },
  {
   "cell_type": "code",
   "execution_count": 9,
   "metadata": {
    "slideshow": {
     "slide_type": "subslide"
    }
   },
   "outputs": [
    {
     "name": "stdout",
     "output_type": "stream",
     "text": [
      "['my_attribute', 'my_instance_attribute']\n",
      "['my_attribute']\n"
     ]
    }
   ],
   "source": [
    "ClassWithNothing.my_attribute = 'my value'\n",
    "nobject.my_instance_attribute = \"my value 2\"\n",
    "\n",
    "print_custom_attrs(nobject)\n",
    "print_custom_attrs(ClassWithNothing)"
   ]
  },
  {
   "cell_type": "code",
   "execution_count": 10,
   "outputs": [
    {
     "name": "stdout",
     "output_type": "stream",
     "text": [
      "['my_attribute']\n"
     ]
    }
   ],
   "source": [
    "new_nobject = ClassWithNothing()\n",
    "print_custom_attrs(new_nobject)"
   ],
   "metadata": {
    "collapsed": false,
    "pycharm": {
     "name": "#%%\n"
    }
   }
  },
  {
   "cell_type": "markdown",
   "metadata": {
    "slideshow": {
     "slide_type": "slide"
    }
   },
   "source": [
    "## Наследование"
   ]
  },
  {
   "cell_type": "code",
   "execution_count": 2,
   "metadata": {},
   "outputs": [],
   "source": [
    "class Animal:\n",
    "    some_value = \"animal\"\n",
    "    def __init__(self):\n",
    "        print(\"i am an animal\")\n",
    "    \n",
    "    def speak(self):\n",
    "        raise NotImplementedError('i don\\'t know how to speak')\n",
    "\n",
    "        \n",
    "class Cat(Animal):\n",
    "    some_value = \"cat\"\n",
    "    def __init__(self):\n",
    "        super().__init__()\n",
    "        print(\"i am a cat\")\n",
    "    \n",
    "    def speak(self):\n",
    "        print('meoooow')\n",
    "\n",
    "        \n",
    "class Hedgehog(Animal):\n",
    "    def __init__(self):\n",
    "        super().__init__()\n",
    "        print(\"i am a hedgehog\")\n",
    "\n",
    "        \n",
    "class Dog(Animal):\n",
    "    some_value = \"dog\"\n",
    "    def __init__(self):\n",
    "        super().__init__()\n",
    "        print(\"i am a dog\")\n",
    "\n",
    "\n",
    "class CatDog(Cat, Dog):  # ромбовидное наследование возможно, но не делайте так, пожалуйста!\n",
    "    def __init__(self):\n",
    "        super().__init__()\n",
    "        print(\"i am a CatDog!\")"
   ]
  },
  {
   "cell_type": "code",
   "execution_count": 3,
   "metadata": {
    "slideshow": {
     "slide_type": "subslide"
    }
   },
   "outputs": [
    {
     "name": "stdout",
     "output_type": "stream",
     "text": [
      "i am an animal\n"
     ]
    },
    {
     "data": {
      "text/plain": [
       "'animal'"
      ]
     },
     "execution_count": 3,
     "metadata": {},
     "output_type": "execute_result"
    }
   ],
   "source": [
    "animal = Animal()\n",
    "animal.some_value"
   ]
  },
  {
   "cell_type": "code",
   "execution_count": 4,
   "metadata": {},
   "outputs": [
    {
     "name": "stdout",
     "output_type": "stream",
     "text": [
      "i am an animal\n",
      "i am a cat\n"
     ]
    },
    {
     "data": {
      "text/plain": [
       "'cat'"
      ]
     },
     "execution_count": 4,
     "metadata": {},
     "output_type": "execute_result"
    }
   ],
   "source": [
    "cat = Cat()\n",
    "cat.some_value # переопределено"
   ]
  },
  {
   "cell_type": "code",
   "execution_count": 147,
   "metadata": {
    "slideshow": {
     "slide_type": "subslide"
    }
   },
   "outputs": [
    {
     "name": "stdout",
     "output_type": "stream",
     "text": [
      "i am an animal\n",
      "i am a hedgehog\n"
     ]
    },
    {
     "data": {
      "text/plain": [
       "'animal'"
      ]
     },
     "execution_count": 147,
     "metadata": {},
     "output_type": "execute_result"
    }
   ],
   "source": [
    "hedgehog = Hedgehog()\n",
    "hedgehog.some_value # не переопределено"
   ]
  },
  {
   "cell_type": "code",
   "execution_count": 148,
   "metadata": {},
   "outputs": [
    {
     "name": "stdout",
     "output_type": "stream",
     "text": [
      "i am an animal\n",
      "i am a dog\n"
     ]
    },
    {
     "data": {
      "text/plain": [
       "'dog'"
      ]
     },
     "execution_count": 148,
     "metadata": {},
     "output_type": "execute_result"
    }
   ],
   "source": [
    "dog = Dog()\n",
    "dog.some_value # переопределено"
   ]
  },
  {
   "cell_type": "code",
   "execution_count": 149,
   "metadata": {
    "slideshow": {
     "slide_type": "subslide"
    }
   },
   "outputs": [
    {
     "name": "stdout",
     "output_type": "stream",
     "text": [
      "i am an animal\n",
      "i am a dog\n",
      "i am a cat\n",
      "i am a CatDog!\n"
     ]
    },
    {
     "data": {
      "text/plain": [
       "'cat'"
      ]
     },
     "execution_count": 149,
     "metadata": {},
     "output_type": "execute_result"
    }
   ],
   "source": [
    "catdog = CatDog()\n",
    "catdog.some_value"
   ]
  },
  {
   "cell_type": "markdown",
   "metadata": {
    "slideshow": {
     "slide_type": "subslide"
    }
   },
   "source": [
    "__Q:__ А как определяется порядок?\n",
    "    \n",
    "__A:__ Порядок перечисления родителей важен!\n",
    "\n",
    "**Подробнее про MRO (method resolution order) тут:** https://habr.com/ru/post/62203/"
   ]
  },
  {
   "cell_type": "code",
   "execution_count": 5,
   "metadata": {
    "slideshow": {
     "slide_type": "fragment"
    }
   },
   "outputs": [
    {
     "name": "stdout",
     "output_type": "stream",
     "text": [
      "i am an animal\n",
      "i am a cat\n",
      "i am a dog\n",
      "i am a CatDog!\n"
     ]
    },
    {
     "data": {
      "text/plain": [
       "'dog'"
      ]
     },
     "execution_count": 5,
     "metadata": {},
     "output_type": "execute_result"
    }
   ],
   "source": [
    "class CatDog(Dog, Cat):  # теперь наоборот, найдите два отличия!\n",
    "    def __init__(self):\n",
    "        super().__init__()\n",
    "        print(\"i am a CatDog!\")\n",
    "\n",
    "catdog = CatDog()\n",
    "catdog.some_value"
   ]
  },
  {
   "cell_type": "markdown",
   "metadata": {
    "slideshow": {
     "slide_type": "subslide"
    }
   },
   "source": [
    "__Q:__ А что с методами?\n",
    "    \n",
    "__A:__ Всё то же, что и с атрибутами!"
   ]
  },
  {
   "cell_type": "code",
   "execution_count": 151,
   "metadata": {},
   "outputs": [
    {
     "name": "stdout",
     "output_type": "stream",
     "text": [
      "meoooow\n"
     ]
    },
    {
     "ename": "NotImplementedError",
     "evalue": "i don't know how to speak",
     "output_type": "error",
     "traceback": [
      "\u001B[0;31m---------------------------------------------------------------------------\u001B[0m",
      "\u001B[0;31mNotImplementedError\u001B[0m                       Traceback (most recent call last)",
      "\u001B[0;32m<ipython-input-151-44396da8345e>\u001B[0m in \u001B[0;36m<module>\u001B[0;34m()\u001B[0m\n\u001B[1;32m      1\u001B[0m \u001B[0mcat\u001B[0m\u001B[0;34m.\u001B[0m\u001B[0mspeak\u001B[0m\u001B[0;34m(\u001B[0m\u001B[0;34m)\u001B[0m\u001B[0;34m\u001B[0m\u001B[0m\n\u001B[0;32m----> 2\u001B[0;31m \u001B[0mdog\u001B[0m\u001B[0;34m.\u001B[0m\u001B[0mspeak\u001B[0m\u001B[0;34m(\u001B[0m\u001B[0;34m)\u001B[0m\u001B[0;34m\u001B[0m\u001B[0m\n\u001B[0m",
      "\u001B[0;32m<ipython-input-144-c8a047664738>\u001B[0m in \u001B[0;36mspeak\u001B[0;34m(self)\u001B[0m\n\u001B[1;32m      5\u001B[0m \u001B[0;34m\u001B[0m\u001B[0m\n\u001B[1;32m      6\u001B[0m     \u001B[0;32mdef\u001B[0m \u001B[0mspeak\u001B[0m\u001B[0;34m(\u001B[0m\u001B[0mself\u001B[0m\u001B[0;34m)\u001B[0m\u001B[0;34m:\u001B[0m\u001B[0;34m\u001B[0m\u001B[0m\n\u001B[0;32m----> 7\u001B[0;31m         \u001B[0;32mraise\u001B[0m \u001B[0mNotImplementedError\u001B[0m\u001B[0;34m(\u001B[0m\u001B[0;34m'i don\\'t know how to speak'\u001B[0m\u001B[0;34m)\u001B[0m\u001B[0;34m\u001B[0m\u001B[0m\n\u001B[0m\u001B[1;32m      8\u001B[0m \u001B[0;34m\u001B[0m\u001B[0m\n\u001B[1;32m      9\u001B[0m \u001B[0;34m\u001B[0m\u001B[0m\n",
      "\u001B[0;31mNotImplementedError\u001B[0m: i don't know how to speak"
     ]
    }
   ],
   "source": [
    "cat.speak() # переопределено\n",
    "dog.speak() # не переопределено"
   ]
  },
  {
   "cell_type": "markdown",
   "metadata": {
    "slideshow": {
     "slide_type": "slide"
    }
   },
   "source": [
    "## Приватность?"
   ]
  },
  {
   "cell_type": "code",
   "execution_count": 11,
   "metadata": {},
   "outputs": [],
   "source": [
    "class VeryPrivateDataHolder:\n",
    "    _secret = 1\n",
    "    __very_secret = 2"
   ]
  },
  {
   "cell_type": "code",
   "execution_count": 12,
   "metadata": {},
   "outputs": [
    {
     "name": "stdout",
     "output_type": "stream",
     "text": [
      "1\n"
     ]
    },
    {
     "ename": "AttributeError",
     "evalue": "'VeryPrivateDataHolder' object has no attribute '__very_secret'",
     "output_type": "error",
     "traceback": [
      "\u001B[0;31m---------------------------------------------------------------------------\u001B[0m",
      "\u001B[0;31mAttributeError\u001B[0m                            Traceback (most recent call last)",
      "\u001B[0;32m/var/folders/y4/cg33f0j16psf49d79blwc81srjjwcd/T/ipykernel_84615/2383788721.py\u001B[0m in \u001B[0;36m<module>\u001B[0;34m\u001B[0m\n\u001B[1;32m      1\u001B[0m \u001B[0mobj\u001B[0m \u001B[0;34m=\u001B[0m \u001B[0mVeryPrivateDataHolder\u001B[0m\u001B[0;34m(\u001B[0m\u001B[0;34m)\u001B[0m\u001B[0;34m\u001B[0m\u001B[0;34m\u001B[0m\u001B[0m\n\u001B[1;32m      2\u001B[0m \u001B[0mprint\u001B[0m\u001B[0;34m(\u001B[0m\u001B[0mobj\u001B[0m\u001B[0;34m.\u001B[0m\u001B[0m_secret\u001B[0m\u001B[0;34m)\u001B[0m\u001B[0;34m\u001B[0m\u001B[0;34m\u001B[0m\u001B[0m\n\u001B[0;32m----> 3\u001B[0;31m \u001B[0mprint\u001B[0m\u001B[0;34m(\u001B[0m\u001B[0mobj\u001B[0m\u001B[0;34m.\u001B[0m\u001B[0m__very_secret\u001B[0m\u001B[0;34m)\u001B[0m\u001B[0;34m\u001B[0m\u001B[0;34m\u001B[0m\u001B[0m\n\u001B[0m",
      "\u001B[0;31mAttributeError\u001B[0m: 'VeryPrivateDataHolder' object has no attribute '__very_secret'"
     ]
    }
   ],
   "source": [
    "obj = VeryPrivateDataHolder()\n",
    "print(obj._secret)\n",
    "print(obj.__very_secret)"
   ]
  },
  {
   "cell_type": "code",
   "execution_count": 13,
   "outputs": [
    {
     "data": {
      "text/plain": "['_VeryPrivateDataHolder__very_secret',\n '__class__',\n '__delattr__',\n '__dict__',\n '__dir__',\n '__doc__',\n '__eq__',\n '__format__',\n '__ge__',\n '__getattribute__',\n '__gt__',\n '__hash__',\n '__init__',\n '__init_subclass__',\n '__le__',\n '__lt__',\n '__module__',\n '__ne__',\n '__new__',\n '__reduce__',\n '__reduce_ex__',\n '__repr__',\n '__setattr__',\n '__sizeof__',\n '__str__',\n '__subclasshook__',\n '__weakref__',\n '_secret']"
     },
     "execution_count": 13,
     "metadata": {},
     "output_type": "execute_result"
    }
   ],
   "source": [
    "dir(obj)"
   ],
   "metadata": {
    "collapsed": false,
    "pycharm": {
     "name": "#%%\n"
    }
   }
  },
  {
   "cell_type": "markdown",
   "metadata": {
    "slideshow": {
     "slide_type": "subslide"
    }
   },
   "source": [
    "__Q:__ То есть, в питоне всё-таки есть приватность?\n",
    "\n",
    "__A:__ Ну..."
   ]
  },
  {
   "cell_type": "code",
   "execution_count": 156,
   "metadata": {},
   "outputs": [
    {
     "data": {
      "text/plain": [
       "2"
      ]
     },
     "execution_count": 156,
     "metadata": {},
     "output_type": "execute_result"
    }
   ],
   "source": [
    "obj._VeryPrivateDataHolder__very_secret  # а так вообще никогда не делайте, особенно с чужими классами"
   ]
  },
  {
   "cell_type": "code",
   "execution_count": 152,
   "metadata": {},
   "outputs": [
    {
     "data": {
      "text/plain": [
       "'new secret'"
      ]
     },
     "execution_count": 152,
     "metadata": {},
     "output_type": "execute_result"
    }
   ],
   "source": [
    "obj._VeryPrivateDataHolder__very_secret = 'new secret'\n",
    "obj._VeryPrivateDataHolder__very_secret"
   ]
  },
  {
   "cell_type": "markdown",
   "metadata": {
    "slideshow": {
     "slide_type": "slide"
    }
   },
   "source": [
    "# Генераторы и итераторы: повторение с новой точки зрения"
   ]
  },
  {
   "cell_type": "markdown",
   "metadata": {},
   "source": [
    "В теории всё выглядит как-то так:\n",
    "\n",
    "1. Итератор -- это объект, у которого есть методы `__iter__` и `__next__`.\n",
    "\n",
    "2. Генератор -- это результат работы функции, которая... генерирует. Например, с помощью `yield`. Это упрощает создание итераторов.\n",
    "\n",
    "3. Каждый генератор является итератором (неявно реализует интерфейс итератора). Обратное, конечно, неверно. "
   ]
  },
  {
   "cell_type": "markdown",
   "metadata": {
    "slideshow": {
     "slide_type": "subslide"
    }
   },
   "source": [
    "На практике всё, к счастью, выглядит несколько понятнее. Ниже -- типичный итератор, вид \"из-под капота\":"
   ]
  },
  {
   "cell_type": "code",
   "execution_count": 7,
   "metadata": {},
   "outputs": [],
   "source": [
    "# не пишите названия классов в snake_case! только CamelCase\n",
    "class my_range_iterator:\n",
    "    def __init__(self, n_max):\n",
    "        self.i = 0\n",
    "        self.n_max = n_max\n",
    "\n",
    "    def __iter__(self):\n",
    "        return self\n",
    "\n",
    "    def __next__(self):\n",
    "        if self.i < self.n_max:\n",
    "            i = self.i\n",
    "            self.i += 1\n",
    "            return i\n",
    "        else:\n",
    "            # специальное исключение, которое означает \"элементы кончились!\"\n",
    "            # впрочем, может никогда и не бросаться\n",
    "            raise StopIteration()"
   ]
  },
  {
   "cell_type": "code",
   "execution_count": 49,
   "metadata": {
    "slideshow": {
     "slide_type": "subslide"
    }
   },
   "outputs": [
    {
     "name": "stdout",
     "output_type": "stream",
     "text": [
      "0\n",
      "1\n",
      "2\n"
     ]
    },
    {
     "ename": "StopIteration",
     "evalue": "",
     "output_type": "error",
     "traceback": [
      "\u001B[0;31m---------------------------------------------------------------------------\u001B[0m",
      "\u001B[0;31mStopIteration\u001B[0m                             Traceback (most recent call last)",
      "\u001B[0;32m<ipython-input-49-4e8293f4944d>\u001B[0m in \u001B[0;36m<module>\u001B[0;34m\u001B[0m\n\u001B[1;32m      3\u001B[0m \u001B[0mprint\u001B[0m\u001B[0;34m(\u001B[0m\u001B[0miterator_obj\u001B[0m\u001B[0;34m.\u001B[0m\u001B[0m__next__\u001B[0m\u001B[0;34m(\u001B[0m\u001B[0;34m)\u001B[0m\u001B[0;34m)\u001B[0m\u001B[0;34m\u001B[0m\u001B[0;34m\u001B[0m\u001B[0m\n\u001B[1;32m      4\u001B[0m \u001B[0mprint\u001B[0m\u001B[0;34m(\u001B[0m\u001B[0miterator_obj\u001B[0m\u001B[0;34m.\u001B[0m\u001B[0m__next__\u001B[0m\u001B[0;34m(\u001B[0m\u001B[0;34m)\u001B[0m\u001B[0;34m)\u001B[0m\u001B[0;34m\u001B[0m\u001B[0;34m\u001B[0m\u001B[0m\n\u001B[0;32m----> 5\u001B[0;31m \u001B[0mprint\u001B[0m\u001B[0;34m(\u001B[0m\u001B[0miterator_obj\u001B[0m\u001B[0;34m.\u001B[0m\u001B[0m__next__\u001B[0m\u001B[0;34m(\u001B[0m\u001B[0;34m)\u001B[0m\u001B[0;34m)\u001B[0m\u001B[0;34m\u001B[0m\u001B[0;34m\u001B[0m\u001B[0m\n\u001B[0m\u001B[1;32m      6\u001B[0m \u001B[0mprint\u001B[0m\u001B[0;34m(\u001B[0m\u001B[0miterator_obj\u001B[0m\u001B[0;34m.\u001B[0m\u001B[0m__next__\u001B[0m\u001B[0;34m(\u001B[0m\u001B[0;34m)\u001B[0m\u001B[0;34m)\u001B[0m\u001B[0;34m\u001B[0m\u001B[0;34m\u001B[0m\u001B[0m\n",
      "\u001B[0;32m<ipython-input-48-e4917da5fb35>\u001B[0m in \u001B[0;36m__next__\u001B[0;34m(self)\u001B[0m\n\u001B[1;32m     15\u001B[0m             \u001B[0;31m# специальное исключение, которое означает \"элементы кончились!\"\u001B[0m\u001B[0;34m\u001B[0m\u001B[0;34m\u001B[0m\u001B[0;34m\u001B[0m\u001B[0m\n\u001B[1;32m     16\u001B[0m             \u001B[0;31m# впрочем, может никогда и не бросаться\u001B[0m\u001B[0;34m\u001B[0m\u001B[0;34m\u001B[0m\u001B[0;34m\u001B[0m\u001B[0m\n\u001B[0;32m---> 17\u001B[0;31m             \u001B[0;32mraise\u001B[0m \u001B[0mStopIteration\u001B[0m\u001B[0;34m(\u001B[0m\u001B[0;34m)\u001B[0m\u001B[0;34m\u001B[0m\u001B[0;34m\u001B[0m\u001B[0m\n\u001B[0m",
      "\u001B[0;31mStopIteration\u001B[0m: "
     ]
    }
   ],
   "source": [
    "iterator_obj = my_range_iterator(3)\n",
    "print(iterator_obj.__next__())\n",
    "print(iterator_obj.__next__())\n",
    "print(iterator_obj.__next__())\n",
    "print(iterator_obj.__next__())\n",
    "print(iterator_obj.__next__())"
   ]
  },
  {
   "cell_type": "markdown",
   "metadata": {
    "slideshow": {
     "slide_type": "subslide"
    }
   },
   "source": [
    "__Q:__ И что, чтобы им пользоваться, надо ловить исключения?\n",
    "\n",
    "__A:__ Конечно, нет! Это non-pythonic way"
   ]
  },
  {
   "cell_type": "code",
   "execution_count": 51,
   "metadata": {},
   "outputs": [
    {
     "name": "stdout",
     "output_type": "stream",
     "text": [
      "<class '__main__.my_range_iterator'>\n",
      "0\n",
      "1\n",
      "2\n"
     ]
    }
   ],
   "source": [
    "iterator_obj = my_range_iterator(3)\n",
    "print(type(iterator_obj))\n",
    "for x in iterator_obj:\n",
    "    print(x)"
   ]
  },
  {
   "cell_type": "code",
   "execution_count": 52,
   "metadata": {
    "slideshow": {
     "slide_type": "subslide"
    }
   },
   "outputs": [],
   "source": [
    "for x in iterator_obj:\n",
    "    print(x)"
   ]
  },
  {
   "cell_type": "markdown",
   "metadata": {},
   "source": [
    "__Q:__ Повторно использовать нельзя?!\n",
    "\n",
    "__A:__ Объект итератора, как можно понять из кода, хранит своё состояние. Он уже выдал нам всё, что должен был"
   ]
  },
  {
   "cell_type": "code",
   "execution_count": 2,
   "metadata": {
    "slideshow": {
     "slide_type": "subslide"
    }
   },
   "outputs": [],
   "source": [
    "def my_range_generator(n_max):\n",
    "    i = 0\n",
    "    while i < n_max:\n",
    "        yield i\n",
    "        i += 1"
   ]
  },
  {
   "cell_type": "code",
   "execution_count": 3,
   "metadata": {},
   "outputs": [
    {
     "name": "stdout",
     "output_type": "stream",
     "text": [
      "<class 'generator'>\n",
      "<method-wrapper '__iter__' of generator object at 0x7ff13413e970>\n",
      "<generator object my_range_generator at 0x7ff13413e970>\n",
      "<method-wrapper '__next__' of generator object at 0x7ff13413e970>\n"
     ]
    }
   ],
   "source": [
    "generator_obj = my_range_generator(3)\n",
    "print(type(generator_obj))\n",
    "# мы не определяли магических функций итератора, но...\n",
    "print(generator_obj.__iter__)\n",
    "print(generator_obj.__iter__())\n",
    "print(generator_obj.__next__)"
   ]
  },
  {
   "cell_type": "code",
   "execution_count": 4,
   "metadata": {
    "slideshow": {
     "slide_type": "subslide"
    }
   },
   "outputs": [
    {
     "name": "stdout",
     "output_type": "stream",
     "text": [
      "0\n",
      "1\n",
      "2\n"
     ]
    }
   ],
   "source": [
    "for x in generator_obj:\n",
    "    print(x)"
   ]
  },
  {
   "cell_type": "code",
   "execution_count": 5,
   "metadata": {},
   "outputs": [],
   "source": [
    "for x in generator_obj:\n",
    "    print(x)"
   ]
  },
  {
   "cell_type": "markdown",
   "metadata": {
    "slideshow": {
     "slide_type": "subslide"
    }
   },
   "source": [
    "__Q:__ А чем отличается практическое использование?\n",
    "\n",
    "__A:__ Как правило, почти ничем"
   ]
  },
  {
   "cell_type": "code",
   "execution_count": 8,
   "metadata": {},
   "outputs": [
    {
     "name": "stdout",
     "output_type": "stream",
     "text": [
      "10\n",
      "10\n"
     ]
    }
   ],
   "source": [
    "print(sum(my_range_generator(5)))\n",
    "print(sum(my_range_iterator(5)))"
   ]
  },
  {
   "cell_type": "markdown",
   "metadata": {
    "slideshow": {
     "slide_type": "slide"
    }
   },
   "source": [
    "## Сахар"
   ]
  },
  {
   "cell_type": "code",
   "execution_count": 14,
   "metadata": {},
   "outputs": [],
   "source": [
    "class MyClass:\n",
    "    \n",
    "    cls_val = 0\n",
    "    \n",
    "    def __init__(self, val):\n",
    "        self.obj_val = val\n",
    "\n",
    "    def set(self, val):\n",
    "        type(self).cls_val = val  # атрибут класса\n",
    "        self.obj_val = val        # атрибут объекта\n",
    "    \n",
    "    @staticmethod  # можно вызывать и как obj.stat_set(val) и как MyClass.stat_set(val)!\n",
    "    def stat_set(val):\n",
    "        # обычно @staticmethod используется как обычная функция, менять в ней поле класса - что-то странное)\n",
    "        MyClass.cls_val = val\n",
    "        \n",
    "    @classmethod  # передаёт класс первым аргументом\n",
    "    def cls_set(cls, val):\n",
    "        cls.cls_val = val\n",
    "\n"
   ]
  },
  {
   "cell_type": "code",
   "execution_count": 15,
   "metadata": {
    "slideshow": {
     "slide_type": "subslide"
    }
   },
   "outputs": [
    {
     "name": "stdout",
     "output_type": "stream",
     "text": [
      "cls_val 0 obj_val 5\n",
      "cls_val 9 obj_val 9\n",
      "cls_val 4 obj_val 9\n",
      "cls_val 3 obj_val 9\n",
      "cls_val 7 obj_val 9\n"
     ]
    }
   ],
   "source": [
    "obj = MyClass(5)\n",
    "print('cls_val',obj.cls_val,'obj_val',obj.obj_val)\n",
    "\n",
    "obj.set(9)\n",
    "print('cls_val',obj.cls_val,'obj_val',obj.obj_val)\n",
    "\n",
    "obj.stat_set(4)\n",
    "print('cls_val',obj.cls_val,'obj_val',obj.obj_val)\n",
    "\n",
    "MyClass.stat_set(3)\n",
    "print('cls_val',obj.cls_val,'obj_val',obj.obj_val)\n",
    "\n",
    "MyClass.cls_set(7)\n",
    "print('cls_val',obj.cls_val,'obj_val',obj.obj_val)"
   ]
  },
  {
   "cell_type": "markdown",
   "metadata": {
    "slideshow": {
     "slide_type": "slide"
    }
   },
   "source": [
    "## Callable-объекты"
   ]
  },
  {
   "cell_type": "code",
   "execution_count": 17,
   "metadata": {},
   "outputs": [
    {
     "data": {
      "text/plain": "24"
     },
     "execution_count": 17,
     "metadata": {},
     "output_type": "execute_result"
    }
   ],
   "source": [
    "class Adder:\n",
    "    def __init__(self, x):\n",
    "        self.x = x\n",
    "    def __call__(self, y):\n",
    "        return self.x + y\n",
    "    \n",
    "adder = Adder(10)\n",
    "\n",
    "adder(14)"
   ]
  },
  {
   "cell_type": "markdown",
   "metadata": {
    "slideshow": {
     "slide_type": "slide"
    }
   },
   "source": [
    "## Импорты"
   ]
  },
  {
   "cell_type": "code",
   "execution_count": 9,
   "metadata": {},
   "outputs": [
    {
     "name": "stdout",
     "output_type": "stream",
     "text": [
      "3.141592653589793\n"
     ]
    }
   ],
   "source": [
    "import math\n",
    "\n",
    "print(math.pi)"
   ]
  },
  {
   "cell_type": "code",
   "execution_count": 15,
   "metadata": {
    "slideshow": {
     "slide_type": "subslide"
    }
   },
   "outputs": [
    {
     "name": "stdout",
     "output_type": "stream",
     "text": [
      "3.141592653589793\n"
     ]
    }
   ],
   "source": [
    "import math as m\n",
    "\n",
    "print(m.pi)"
   ]
  },
  {
   "cell_type": "code",
   "execution_count": 16,
   "metadata": {},
   "outputs": [
    {
     "name": "stdout",
     "output_type": "stream",
     "text": [
      "3.141592653589793\n"
     ]
    }
   ],
   "source": [
    "from math import pi\n",
    "\n",
    "print(pi)"
   ]
  },
  {
   "cell_type": "code",
   "execution_count": 24,
   "metadata": {},
   "outputs": [
    {
     "name": "stdout",
     "output_type": "stream",
     "text": [
      "3.141592653589793\n",
      "['Adder', 'ClassWithNothing', 'In', 'MyClass', 'MyLittleClass', 'Out', 'SOME_CONST', 'VeryPrivateDataHolder', '_', '_13', '_16', '_17', '__', '___', '__builtin__', '__builtins__', '__doc__', '__loader__', '__name__', '__package__', '__spec__', '_dh', '_i', '_i1', '_i10', '_i11', '_i12', '_i13', '_i14', '_i15', '_i16', '_i17', '_i18', '_i19', '_i2', '_i20', '_i21', '_i22', '_i23', '_i24', '_i3', '_i4', '_i5', '_i6', '_i7', '_i8', '_i9', '_ih', '_ii', '_iii', '_oh', '_pydevd_bundle', 'acos', 'acosh', 'adder', 'asin', 'asinh', 'atan', 'atan2', 'atanh', 'ceil', 'copysign', 'cos', 'cosh', 'degrees', 'e', 'erf', 'erfc', 'exit', 'exp', 'expm1', 'fabs', 'factorial', 'floor', 'fmod', 'frexp', 'fsum', 'gamma', 'gcd', 'get_ipython', 'hypot', 'inf', 'isclose', 'isfinite', 'isinf', 'isnan', 'ldexp', 'lgamma', 'log', 'log10', 'log1p', 'log2', 'modf', 'nan', 'new_nobject', 'nobject', 'obj', 'pi', 'pow', 'print_custom_attrs', 'pydev_jupyter_vars', 'quit', 'radians', 'remainder', 'remove_imported_pydev_package', 'sin', 'sinh', 'sqrt', 'sys', 'tan', 'tanh', 'tau', 'trunc']\n"
     ]
    }
   ],
   "source": [
    "from math import * # импортирует всё в global пространство имён - НЕ ДЕЛАТЬ ТАК!\n",
    "\n",
    "print(pi)\n",
    "print(dir())"
   ]
  },
  {
   "cell_type": "code",
   "execution_count": 3,
   "outputs": [],
   "source": [
    "# Можно так - импортировать из внутреннего модуля\n",
    "from mylib.main import SOME_CONST"
   ],
   "metadata": {
    "collapsed": false,
    "pycharm": {
     "name": "#%%\n"
    }
   }
  },
  {
   "cell_type": "code",
   "source": [
    "from mylib import CONST2"
   ],
   "metadata": {
    "collapsed": false,
    "pycharm": {
     "name": "#%%\n"
    }
   },
   "execution_count": 7,
   "outputs": []
  },
  {
   "cell_type": "code",
   "execution_count": 4,
   "outputs": [],
   "source": [
    "# А можно прописать в __init__.py импорт SOME_CONST и импортировать из самой библиотеки\n",
    "from mylib import SOME_CONST"
   ],
   "metadata": {
    "collapsed": false,
    "pycharm": {
     "name": "#%%\n"
    }
   }
  },
  {
   "cell_type": "code",
   "execution_count": 8,
   "outputs": [
    {
     "name": "stdout",
     "output_type": "stream",
     "text": [
      "42\n",
      "42\n"
     ]
    }
   ],
   "source": [
    "print(CONST2)\n",
    "print(SOME_CONST)"
   ],
   "metadata": {
    "collapsed": false,
    "pycharm": {
     "name": "#%%\n"
    }
   }
  }
 ],
 "metadata": {
  "celltoolbar": "Slideshow",
  "kernelspec": {
   "display_name": "Python 3",
   "language": "python",
   "name": "python3"
  },
  "language_info": {
   "codemirror_mode": {
    "name": "ipython",
    "version": 3
   },
   "file_extension": ".py",
   "mimetype": "text/x-python",
   "name": "python",
   "nbconvert_exporter": "python",
   "pygments_lexer": "ipython3",
   "version": "3.8.5"
  }
 },
 "nbformat": 4,
 "nbformat_minor": 2
}