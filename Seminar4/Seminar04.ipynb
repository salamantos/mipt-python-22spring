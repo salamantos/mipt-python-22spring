{
 "cells": [
  {
   "cell_type": "markdown",
   "metadata": {
    "slideshow": {
     "slide_type": "slide"
    }
   },
   "source": [
    "# PYTHON 3\n",
    "\n",
    "## Функции, генераторы, замыкания, декораторы\n",
    "(c) Евгений Баулин, MIPT\n",
    "\n",
    "\n",
    "### Содержание\n",
    "\n",
    "* Базовый синтаксис\n",
    "* Аргументы по умолчанию\n",
    "* Переменное число аргументов\n",
    "* Рекурсия\n",
    "* Генераторы\n",
    "* Анонимные функции\n",
    "* Атрибуты\n",
    "* Области видимости\n",
    "* Замыкания\n",
    "* Декораторы"
   ]
  },
  {
   "cell_type": "markdown",
   "metadata": {
    "slideshow": {
     "slide_type": "slide"
    }
   },
   "source": [
    "## Объявление и вызов функции"
   ]
  },
  {
   "cell_type": "code",
   "execution_count": 1,
   "metadata": {},
   "outputs": [
    {
     "name": "stdout",
     "output_type": "stream",
     "text": [
      "a = 1 b = b\n"
     ]
    }
   ],
   "source": [
    "def foo(a, b):\n",
    "    print('a =', a, 'b =', b)\n",
    "    \n",
    "foo(1, 'b')"
   ]
  },
  {
   "cell_type": "markdown",
   "metadata": {
    "slideshow": {
     "slide_type": "subslide"
    }
   },
   "source": [
    "#### Аргументы по умолчанию"
   ]
  },
  {
   "cell_type": "code",
   "execution_count": 2,
   "metadata": {},
   "outputs": [
    {
     "name": "stdout",
     "output_type": "stream",
     "text": [
      "a = 1 b = b c = 0.5 d = (None,)\n",
      "a = 1 b = b c = 0.3 d = (None,)\n",
      "a = 1 b = b c = 0.5 d = d\n",
      "a = 1 b = b c = 0.3 d = d\n"
     ]
    }
   ],
   "source": [
    "def foo(a, b, c=0.5, d=(None,)):\n",
    "    print('a =', a, 'b =', b, 'c =', c, 'd =', d)\n",
    "    \n",
    "foo(1, 'b')\n",
    "foo(1, 'b', 0.3)\n",
    "foo(1, 'b', d='d')\n",
    "foo(1, d='d', c=0.3, b='b')"
   ]
  },
  {
   "cell_type": "markdown",
   "metadata": {
    "slideshow": {
     "slide_type": "subslide"
    }
   },
   "source": [
    "#### Изменяемые аргументы передаются по ссылке, неизменяемые - по значению"
   ]
  },
  {
   "cell_type": "code",
   "execution_count": 1,
   "metadata": {},
   "outputs": [
    {
     "name": "stdout",
     "output_type": "stream",
     "text": [
      "Bruce Willis\n",
      "Chuck Norris\n",
      "Sylvester Stallone\n",
      "5\n"
     ]
    }
   ],
   "source": [
    "\n",
    "\n",
    "def get_my_hero_team(team, number):\n",
    "    number = 10\n",
    "    team['Chuck'] = 'Norris'\n",
    "    team['Sylvester'] = 'Stallone'\n",
    "    \n",
    "number = 5\n",
    "hero_team = {'Bruce': 'Willis', 'Chuck': 'Lorre'}\n",
    "get_my_hero_team(hero_team, number)\n",
    "\n",
    "[print(*item) for item in hero_team.items()]\n",
    "print(number)"
   ]
  },
  {
   "cell_type": "markdown",
   "metadata": {
    "slideshow": {
     "slide_type": "slide"
    }
   },
   "source": [
    "#### Переменное число аргуметнов"
   ]
  },
  {
   "cell_type": "code",
   "execution_count": 3,
   "metadata": {},
   "outputs": [
    {
     "name": "stdout",
     "output_type": "stream",
     "text": [
      "a = 1 b = b args = ()\n",
      "a = 1 b = b args = (0.5,)\n",
      "a = 1 b = b args = ([1, 2], 0.5)\n"
     ]
    }
   ],
   "source": [
    "def foo(a, b, *args):\n",
    "    print('a =', a, 'b =', b, 'args =', args)\n",
    "    args[0]\n",
    "    \n",
    "foo(1, 'b')\n",
    "foo(1, 'b', 0.5)\n",
    "foo(1, 'b', [1, 2], 0.5)"
   ]
  },
  {
   "cell_type": "code",
   "execution_count": 6,
   "metadata": {},
   "outputs": [
    {
     "name": "stdout",
     "output_type": "stream",
     "text": [
      "a = 1 b = b args = ([1, 2], 0.5)\n"
     ]
    }
   ],
   "source": [
    "def foo(a, *args, b):\n",
    "    print('a =', a, 'b =', b, 'args =', args)\n",
    "    \n",
    "foo(1, [1, 2], 0.5, b='b')"
   ]
  },
  {
   "cell_type": "code",
   "execution_count": 7,
   "metadata": {
    "slideshow": {
     "slide_type": "subslide"
    }
   },
   "outputs": [
    {
     "name": "stdout",
     "output_type": "stream",
     "text": [
      "a = 1 b = 0.5 kwargs = {'c': 'c'}\n",
      "a = 1 b = b kwargs = {'c': 'c'}\n",
      "a = 1 b = b kwargs = {'c': 'c', 'd': 'd'}\n"
     ]
    }
   ],
   "source": [
    "def foo(a, b=0.5, **kwargs):\n",
    "    print('a =', a, 'b =', b, 'kwargs =', kwargs)\n",
    "    \n",
    "foo(1, c='c')\n",
    "foo(1, c='c', b='b')\n",
    "foo(1, 'b', c='c', d='d')"
   ]
  },
  {
   "cell_type": "code",
   "execution_count": 6,
   "metadata": {},
   "outputs": [
    {
     "name": "stdout",
     "output_type": "stream",
     "text": [
      "args = (1, 'a') kwargs = {'x': 0.5, 'y': [3, 4]}\n",
      "args = (1, 'a') kwargs = {'x': 0.5, 'y': [3, 4]}\n"
     ]
    }
   ],
   "source": [
    "def foo(*args, **kwargs):\n",
    "    print('args =', args, 'kwargs =', kwargs)\n",
    "    \n",
    "foo(1, 'a', x=0.5, y=[3, 4])\n",
    "foo(*[1, 'a'], **{'x' : 0.5, 'y': [3, 4]})"
   ]
  },
  {
   "cell_type": "markdown",
   "metadata": {},
   "source": [
    "- args - **tuple**\n",
    "- kwargs - **dict**"
   ]
  },
  {
   "cell_type": "markdown",
   "metadata": {
    "slideshow": {
     "slide_type": "slide"
    }
   },
   "source": [
    "#### Рекурсия"
   ]
  },
  {
   "cell_type": "code",
   "execution_count": 33,
   "metadata": {},
   "outputs": [
    {
     "data": {
      "text/plain": [
       "[1, 2, 3, 4, 5, 7]"
      ]
     },
     "execution_count": 33,
     "metadata": {},
     "output_type": "execute_result"
    }
   ],
   "source": [
    "def easy_sort(x):\n",
    "    if not x:\n",
    "        return x\n",
    "    \n",
    "    first = min(x)\n",
    "    x.remove(first)\n",
    "    return [first] + easy_sort(x)\n",
    "    \n",
    "easy_sort([4, 2, 3, 1, 7, 5])"
   ]
  },
  {
   "cell_type": "code",
   "execution_count": 1,
   "metadata": {},
   "outputs": [],
   "source": [
    "def ackermann(m, n):\n",
    "    if m == 0:\n",
    "        return n + 1\n",
    "    if n == 0:\n",
    "        return ackermann(m - 1, 1)\n",
    "    return ackermann(m - 1, ackermann(m, n - 1))"
   ]
  },
  {
   "cell_type": "code",
   "execution_count": 5,
   "metadata": {},
   "outputs": [
    {
     "name": "stdout",
     "output_type": "stream",
     "text": [
      "5\n",
      "9\n",
      "125\n"
     ]
    }
   ],
   "source": [
    "print(ackermann(1, 3))\n",
    "print(ackermann(2, 3))\n",
    "print(ackermann(3, 4))"
   ]
  },
  {
   "cell_type": "markdown",
   "metadata": {
    "slideshow": {
     "slide_type": "slide"
    }
   },
   "source": [
    "## Iterable/Iterator/Generator\n",
    "\n",
    "- **Iterator** - то, от чего можно взять next()\n",
    "- **Iterable** - то, от чего можно взять iter(), получив Iterator\n",
    "\n",
    "- **Generator** - особый вид Iterator\n",
    "- **Generator Expression** - способ создания Generator\n",
    "- **Generator Function** (в простонародии тоже Generator) - еще один способ создания Generator "
   ]
  },
  {
   "cell_type": "code",
   "execution_count": 33,
   "metadata": {},
   "outputs": [
    {
     "name": "stdout",
     "output_type": "stream",
     "text": [
      "<list_iterator object at 0x7ff0f0284748>\n",
      "I am a generator function!\n",
      "Hello world! "
     ]
    }
   ],
   "source": [
    "values = ['Hello', 'world!']\n",
    "print(values.__iter__())\n",
    "\n",
    "def foo(x):\n",
    "    print('I am a generator function!')\n",
    "    return x.__iter__()\n",
    "\n",
    "for value in foo(values):\n",
    "    print(value, end=' ')"
   ]
  },
  {
   "cell_type": "code",
   "execution_count": 24,
   "metadata": {
    "slideshow": {
     "slide_type": "subslide"
    }
   },
   "outputs": [
    {
     "name": "stdout",
     "output_type": "stream",
     "text": [
      "['Alice', 'Bob', 'Charlie']\n",
      "True\n",
      "<list_iterator object at 0x7fb8beb3d790>\n",
      "True\n"
     ]
    }
   ],
   "source": [
    "from collections.abc import Iterable, Iterator\n",
    "\n",
    "iterable = ['Alice', 'Bob', 'Charlie']\n",
    "iterator1 = iter(iterable)\n",
    "iterator2 = iter(iterable)\n",
    "\n",
    "print(iterable)\n",
    "print(isinstance(iterable, Iterable))\n",
    "print(iterator1)\n",
    "print(isinstance(iterator1, Iterator))"
   ]
  },
  {
   "cell_type": "code",
   "execution_count": 25,
   "metadata": {
    "slideshow": {
     "slide_type": "subslide"
    }
   },
   "outputs": [
    {
     "name": "stdout",
     "output_type": "stream",
     "text": [
      "<generator object <genexpr> at 0x7fb8beb1ac50>\n",
      "True\n",
      "True\n",
      "False\n",
      "0\n",
      "1\n",
      "4\n"
     ]
    }
   ],
   "source": [
    "from collections.abc import Generator \n",
    "\n",
    "generator = (x**2 for x in range(10))\n",
    "print(generator)\n",
    "print(isinstance(generator, Generator))\n",
    "print(isinstance(generator, Iterator))\n",
    "print(isinstance(iterator1, Generator))\n",
    "\n",
    "print(next(generator))\n",
    "print(next(generator))\n",
    "print(next(generator))"
   ]
  },
  {
   "cell_type": "code",
   "execution_count": 33,
   "metadata": {},
   "outputs": [
    {
     "ename": "StopIteration",
     "evalue": "",
     "output_type": "error",
     "traceback": [
      "\u001b[0;31m---------------------------------------------------------------------------\u001b[0m",
      "\u001b[0;31mStopIteration\u001b[0m                             Traceback (most recent call last)",
      "\u001b[0;32m/var/folders/y4/cg33f0j16psf49d79blwc81srjjwcd/T/ipykernel_97531/547217498.py\u001b[0m in \u001b[0;36m<module>\u001b[0;34m\u001b[0m\n\u001b[0;32m----> 1\u001b[0;31m \u001b[0mnext\u001b[0m\u001b[0;34m(\u001b[0m\u001b[0mgenerator\u001b[0m\u001b[0;34m)\u001b[0m\u001b[0;34m\u001b[0m\u001b[0;34m\u001b[0m\u001b[0m\n\u001b[0m",
      "\u001b[0;31mStopIteration\u001b[0m: "
     ]
    }
   ],
   "source": [
    "next(generator)"
   ]
  },
  {
   "cell_type": "markdown",
   "metadata": {
    "slideshow": {
     "slide_type": "subslide"
    }
   },
   "source": [
    "#### Ключевое слово **yield**"
   ]
  },
  {
   "cell_type": "code",
   "execution_count": 35,
   "metadata": {
    "slideshow": {
     "slide_type": "-"
    }
   },
   "outputs": [
    {
     "name": "stdout",
     "output_type": "stream",
     "text": [
      "I am the generator!\n",
      "Hello world! "
     ]
    }
   ],
   "source": [
    "values = ['Hello', 'world!']\n",
    "\n",
    "def foo(x):\n",
    "    print('I am the generator!')\n",
    "    for value in x:\n",
    "        yield value\n",
    "        \n",
    "#foo - generator function\n",
    "#foo() - generator\n",
    "        \n",
    "for value in foo(values):\n",
    "    print(value, end=' ')"
   ]
  },
  {
   "cell_type": "markdown",
   "metadata": {
    "slideshow": {
     "slide_type": "subslide"
    }
   },
   "source": [
    "#### Кубы натуральных чисел"
   ]
  },
  {
   "cell_type": "code",
   "execution_count": 62,
   "metadata": {
    "slideshow": {
     "slide_type": "-"
    }
   },
   "outputs": [
    {
     "name": "stdout",
     "output_type": "stream",
     "text": [
      "0 1 8 27 64 125 216 343 512 729 "
     ]
    }
   ],
   "source": [
    "def cubes(x):\n",
    "    for value in x:\n",
    "        yield value ** 3\n",
    "    return None\n",
    "        \n",
    "for value in cubes(range(10)):\n",
    "    print(value, end=' ')\n",
    "\n",
    "next(cubes(range(10)))"
   ]
  },
  {
   "cell_type": "markdown",
   "metadata": {
    "slideshow": {
     "slide_type": "subslide"
    }
   },
   "source": [
    "Генератор может быть бесконечным"
   ]
  },
  {
   "cell_type": "code",
   "execution_count": 36,
   "metadata": {},
   "outputs": [
    {
     "name": "stdout",
     "output_type": "stream",
     "text": [
      "0 1 8 27 64 125 "
     ]
    }
   ],
   "source": [
    "def cubes():\n",
    "    i = 0\n",
    "    while True:\n",
    "        yield i ** 3\n",
    "        i += 1\n",
    "        \n",
    "for value in cubes():\n",
    "    print(value, end=' ')\n",
    "    \n",
    "    if value > 100:\n",
    "        break"
   ]
  },
  {
   "cell_type": "code",
   "execution_count": 12,
   "metadata": {},
   "outputs": [
    {
     "name": "stdout",
     "output_type": "stream",
     "text": [
      "0\n",
      "1\n",
      "8\n"
     ]
    }
   ],
   "source": [
    "iterator = cubes()\n",
    "print(next(iterator))\n",
    "print(next(iterator))\n",
    "print(next(iterator))"
   ]
  },
  {
   "cell_type": "markdown",
   "metadata": {
    "slideshow": {
     "slide_type": "slide"
    }
   },
   "source": [
    "#### Минизадача 1\n",
    "Написать генератор **limit(generator, max_count)**. <br>\n",
    "Возвращает не более **max_count** значений генератора **generator**."
   ]
  },
  {
   "cell_type": "code",
   "execution_count": 37,
   "metadata": {
    "scrolled": true,
    "slideshow": {
     "slide_type": "-"
    }
   },
   "outputs": [
    {
     "name": "stdout",
     "output_type": "stream",
     "text": [
      "1\n"
     ]
    }
   ],
   "source": [
    "import re; print(1)"
   ]
  },
  {
   "cell_type": "code",
   "execution_count": 38,
   "metadata": {},
   "outputs": [
    {
     "data": {
      "text/plain": [
       "range(0, 10)"
      ]
     },
     "execution_count": 38,
     "metadata": {},
     "output_type": "execute_result"
    }
   ],
   "source": [
    "range(10)"
   ]
  },
  {
   "cell_type": "code",
   "execution_count": 69,
   "metadata": {},
   "outputs": [
    {
     "name": "stdout",
     "output_type": "stream",
     "text": [
      "0 1 8 27 64 125 216 343 512 729 "
     ]
    }
   ],
   "source": [
    "for value in limit(cubes(), 10):\n",
    "    print(value, end=' ')"
   ]
  },
  {
   "cell_type": "markdown",
   "metadata": {
    "slideshow": {
     "slide_type": "slide"
    }
   },
   "source": [
    "#### Минизадача 2\n",
    "Написать генератор **all_elements(list)**.<br>\n",
    "Возвращает все элементы списка **list** любой вложенности."
   ]
  },
  {
   "cell_type": "markdown",
   "metadata": {},
   "source": [
    "Указание: для проверки того, что объект итерируемый, можно проверить, что он наследник Iterable"
   ]
  },
  {
   "cell_type": "code",
   "execution_count": 73,
   "metadata": {
    "slideshow": {
     "slide_type": "-"
    }
   },
   "outputs": [],
   "source": [
    "from collections.abc import Iterable\n",
    "\n",
    "if isinstance(e, Iterable):\n",
    "    # e is iterable\n"
   ]
  },
  {
   "cell_type": "code",
   "execution_count": 77,
   "metadata": {},
   "outputs": [
    {
     "name": "stdout",
     "output_type": "stream",
     "text": [
      "1 2 3 4 5 6 7 8 "
     ]
    }
   ],
   "source": [
    "values = [1, [2, 3], [4, [5, 6], [[[7]]]], 8]\n",
    "for value in all_elements(values):\n",
    "    print(value, end=' ')"
   ]
  },
  {
   "cell_type": "markdown",
   "metadata": {
    "slideshow": {
     "slide_type": "slide"
    }
   },
   "source": [
    "## Анонимные функции"
   ]
  },
  {
   "cell_type": "code",
   "execution_count": null,
   "metadata": {},
   "outputs": [],
   "source": [
    "def f(x):\n",
    "    return x**2"
   ]
  },
  {
   "cell_type": "code",
   "execution_count": null,
   "metadata": {},
   "outputs": [],
   "source": [
    "f = lambda x: x**2"
   ]
  },
  {
   "cell_type": "code",
   "execution_count": 175,
   "metadata": {},
   "outputs": [
    {
     "data": {
      "text/plain": [
       "<function __main__.<lambda>>"
      ]
     },
     "execution_count": 175,
     "metadata": {},
     "output_type": "execute_result"
    }
   ],
   "source": [
    "lambda x : print(x)"
   ]
  },
  {
   "cell_type": "code",
   "execution_count": 174,
   "metadata": {},
   "outputs": [
    {
     "data": {
      "text/plain": [
       "[0, 1, 4, 9, 16, 25, 36, 49, 64, 81]"
      ]
     },
     "execution_count": 174,
     "metadata": {},
     "output_type": "execute_result"
    }
   ],
   "source": [
    "list(map(lambda x : x ** 2, range(10)))"
   ]
  },
  {
   "cell_type": "code",
   "execution_count": 176,
   "metadata": {},
   "outputs": [
    {
     "data": {
      "text/plain": [
       "[4, 3, 2, 1]"
      ]
     },
     "execution_count": 176,
     "metadata": {},
     "output_type": "execute_result"
    }
   ],
   "source": [
    "sorted([1, 2, 3, 4], key = lambda x : 1 / x)"
   ]
  },
  {
   "cell_type": "markdown",
   "metadata": {
    "slideshow": {
     "slide_type": "slide"
    }
   },
   "source": [
    "## Аттрибуты"
   ]
  },
  {
   "cell_type": "code",
   "execution_count": 7,
   "metadata": {},
   "outputs": [
    {
     "name": "stdout",
     "output_type": "stream",
     "text": [
      "['__annotations__', '__call__', '__class__', '__closure__', '__code__', '__defaults__', '__delattr__', '__dict__', '__dir__', '__doc__', '__eq__', '__format__', '__ge__', '__get__', '__getattribute__', '__globals__', '__gt__', '__hash__', '__init__', '__init_subclass__', '__kwdefaults__', '__le__', '__lt__', '__module__', '__name__', '__ne__', '__new__', '__qualname__', '__reduce__', '__reduce_ex__', '__repr__', '__setattr__', '__sizeof__', '__str__', '__subclasshook__']\n",
      "foo\n",
      "Function which prints arguments.\n",
      "__main__\n"
     ]
    }
   ],
   "source": [
    "def foo(*args, **kwargs):\n",
    "    'Function which prints arguments.'\n",
    "    print('args =', args, 'kwargs =', kwargs)\n",
    "\n",
    "print(dir(foo))\n",
    "print(foo.__name__)\n",
    "print(foo.__doc__)\n",
    "print(foo.__module__)"
   ]
  },
  {
   "cell_type": "markdown",
   "metadata": {
    "slideshow": {
     "slide_type": "subslide"
    }
   },
   "source": [
    "#### Аттрибуты можно использовать как статические переменные"
   ]
  },
  {
   "cell_type": "code",
   "execution_count": 8,
   "metadata": {},
   "outputs": [
    {
     "name": "stdout",
     "output_type": "stream",
     "text": [
      "1\n",
      "2\n",
      "3\n",
      "get_next_id.value = 3\n"
     ]
    }
   ],
   "source": [
    "def get_next_id():\n",
    "    if not hasattr(get_next_id, 'value'):\n",
    "        get_next_id.value = 0\n",
    "    \n",
    "    get_next_id.value += 1\n",
    "    return get_next_id.value\n",
    "\n",
    "print(get_next_id())\n",
    "print(get_next_id())\n",
    "print(get_next_id())\n",
    "print('get_next_id.value =', get_next_id.value)"
   ]
  },
  {
   "cell_type": "markdown",
   "metadata": {
    "slideshow": {
     "slide_type": "subslide"
    }
   },
   "source": [
    "#### Где хранятся аргументы по умолчанию?"
   ]
  },
  {
   "cell_type": "code",
   "execution_count": 17,
   "metadata": {},
   "outputs": [
    {
     "name": "stdout",
     "output_type": "stream",
     "text": [
      "Defaults:  ('Hello', 1)\n",
      "Hello 1\n",
      "Defaults:  ('Hello', 'world!')\n",
      "Hello world!\n"
     ]
    }
   ],
   "source": [
    "def foo(a = 'Hello', b = 1):\n",
    "    print(a, b)\n",
    "\n",
    "print('Defaults: ', foo.__defaults__)\n",
    "foo()\n",
    "\n",
    "foo.__defaults__ = ('Hello', 'world!')\n",
    "print('Defaults: ', foo.__defaults__)\n",
    "foo()"
   ]
  },
  {
   "cell_type": "markdown",
   "metadata": {
    "slideshow": {
     "slide_type": "subslide"
    }
   },
   "source": [
    "#### Почему не стоит использовать mutable аргументы по умолчанию"
   ]
  },
  {
   "cell_type": "code",
   "execution_count": 22,
   "metadata": {},
   "outputs": [
    {
     "name": "stdout",
     "output_type": "stream",
     "text": [
      "Hello\n",
      "Hello the\n",
      "Hello the wonderful\n",
      "Hello the wonderful world!\n"
     ]
    }
   ],
   "source": [
    "def foo(a, b = []):\n",
    "    b.append(a)\n",
    "    print(*b)\n",
    "    \n",
    "foo('Hello')\n",
    "foo('the')\n",
    "foo('wonderful')\n",
    "foo('world!')"
   ]
  },
  {
   "cell_type": "markdown",
   "metadata": {
    "slideshow": {
     "slide_type": "slide"
    }
   },
   "source": [
    "# Пространства имен [Namespaces]\n",
    "\n",
    "Пространство имён -- мэппинг из имен переменных в объекты."
   ]
  },
  {
   "cell_type": "markdown",
   "metadata": {},
   "source": [
    "**locals()** - возвращает текущий namespace в виде словаря <br>\n",
    "**globals()** - возвращает namespace модуля"
   ]
  },
  {
   "cell_type": "code",
   "execution_count": 14,
   "metadata": {},
   "outputs": [
    {
     "data": {
      "text/plain": [
       "True"
      ]
     },
     "execution_count": 14,
     "metadata": {},
     "output_type": "execute_result"
    }
   ],
   "source": [
    "locals() is globals()"
   ]
  },
  {
   "cell_type": "code",
   "execution_count": 15,
   "metadata": {
    "collapsed": true
   },
   "outputs": [
    {
     "data": {
      "text/plain": [
       "{'__name__': '__main__',\n",
       " '__doc__': 'Automatically created module for IPython interactive environment',\n",
       " '__package__': None,\n",
       " '__loader__': None,\n",
       " '__spec__': None,\n",
       " '__builtin__': <module 'builtins' (built-in)>,\n",
       " '__builtins__': <module 'builtins' (built-in)>,\n",
       " '_ih': ['',\n",
       "  \"def get_my_hero_team(team, number):\\n    number = 10\\n    team['Chuck'] = 'Norris'\\n    team['Sylvester'] = 'Stallone'\\n    \\nnumber = 5\\nhero_team = {'Bruce': 'Willis', 'Chuck': 'Lorre'}\\nget_my_hero_team(hero_team, number)\\n\\n[print(*item) for item in hero_team.items()]\\nprint(number)\",\n",
       "  \"def foo(a, b=0.5, **kwargs):\\n    print('a =', a, 'b =', b, 'kwargs =', kwargs)\\n    \\nfoo(1, c='c')\\nfoo(1, c='c', b='b')\\nfoo(1, 'b', c='c', d='d')\",\n",
       "  \"def foo(a, b=0.5, **kwargs):\\n    print(type(kwargs))\\n    print('a =', a, 'b =', b, 'kwargs =', kwargs)\\n    \\nfoo(1, c='c')\\nfoo(1, c='c', b='b')\\nfoo(1, 'b', c='c', d='d')\",\n",
       "  \"def foo(a, b=0.5, **kwargs):\\n    print(type(kwargs))\\n    kwargs[1] = 2\\n    print('a =', a, 'b =', b, 'kwargs =', kwargs)\\n    \\nfoo(1, c='c')\\nfoo(1, c='c', b='b')\\nfoo(1, 'b', c='c', d='d')\",\n",
       "  \"def foo(a, *args, b):\\n    args.append(1)\\n    print('a =', a, 'b =', b, 'args =', args)\\n    \\nfoo(1, [1, 2], 0.5, b='b')\",\n",
       "  \"def foo(a, *args, b):\\n    print('a =', a, 'b =', b, 'args =', args)\\n    \\nfoo(1, [1, 2], 0.5, b='b')\",\n",
       "  \"def foo(a, b=0.5, **kwargs):\\n    print('a =', a, 'b =', b, 'kwargs =', kwargs)\\n    \\nfoo(1, c='c')\\nfoo(1, c='c', b='b')\\nfoo(1, 'b', c='c', d='d')\",\n",
       "  'iterator = cubes()\\nprint(next(iterator))',\n",
       "  \"def cubes():\\n    i = 0\\n    while True:\\n        yield i ** 3\\n        i += 1\\n        \\nfor value in cubes():\\n    print(value, end=' ')\\n    \\n    if value > 100:\\n        break\",\n",
       "  'iterator = cubes()\\nprint(next(iterator))',\n",
       "  'iterator = cubes()\\nprint(next(iterator))\\n\\nprint(next(iterator))',\n",
       "  'iterator = cubes()\\nprint(next(iterator))\\nprint(next(iterator))\\nprint(next(iterator))',\n",
       "  'limit',\n",
       "  'locals() is globals()',\n",
       "  'locals()'],\n",
       " '_oh': {14: True},\n",
       " '_dh': ['/Users/salamantos/projects/mipt-python-22spring/Seminar4'],\n",
       " 'In': ['',\n",
       "  \"def get_my_hero_team(team, number):\\n    number = 10\\n    team['Chuck'] = 'Norris'\\n    team['Sylvester'] = 'Stallone'\\n    \\nnumber = 5\\nhero_team = {'Bruce': 'Willis', 'Chuck': 'Lorre'}\\nget_my_hero_team(hero_team, number)\\n\\n[print(*item) for item in hero_team.items()]\\nprint(number)\",\n",
       "  \"def foo(a, b=0.5, **kwargs):\\n    print('a =', a, 'b =', b, 'kwargs =', kwargs)\\n    \\nfoo(1, c='c')\\nfoo(1, c='c', b='b')\\nfoo(1, 'b', c='c', d='d')\",\n",
       "  \"def foo(a, b=0.5, **kwargs):\\n    print(type(kwargs))\\n    print('a =', a, 'b =', b, 'kwargs =', kwargs)\\n    \\nfoo(1, c='c')\\nfoo(1, c='c', b='b')\\nfoo(1, 'b', c='c', d='d')\",\n",
       "  \"def foo(a, b=0.5, **kwargs):\\n    print(type(kwargs))\\n    kwargs[1] = 2\\n    print('a =', a, 'b =', b, 'kwargs =', kwargs)\\n    \\nfoo(1, c='c')\\nfoo(1, c='c', b='b')\\nfoo(1, 'b', c='c', d='d')\",\n",
       "  \"def foo(a, *args, b):\\n    args.append(1)\\n    print('a =', a, 'b =', b, 'args =', args)\\n    \\nfoo(1, [1, 2], 0.5, b='b')\",\n",
       "  \"def foo(a, *args, b):\\n    print('a =', a, 'b =', b, 'args =', args)\\n    \\nfoo(1, [1, 2], 0.5, b='b')\",\n",
       "  \"def foo(a, b=0.5, **kwargs):\\n    print('a =', a, 'b =', b, 'kwargs =', kwargs)\\n    \\nfoo(1, c='c')\\nfoo(1, c='c', b='b')\\nfoo(1, 'b', c='c', d='d')\",\n",
       "  'iterator = cubes()\\nprint(next(iterator))',\n",
       "  \"def cubes():\\n    i = 0\\n    while True:\\n        yield i ** 3\\n        i += 1\\n        \\nfor value in cubes():\\n    print(value, end=' ')\\n    \\n    if value > 100:\\n        break\",\n",
       "  'iterator = cubes()\\nprint(next(iterator))',\n",
       "  'iterator = cubes()\\nprint(next(iterator))\\n\\nprint(next(iterator))',\n",
       "  'iterator = cubes()\\nprint(next(iterator))\\nprint(next(iterator))\\nprint(next(iterator))',\n",
       "  'limit',\n",
       "  'locals() is globals()',\n",
       "  'locals()'],\n",
       " 'Out': {14: True},\n",
       " 'get_ipython': <bound method InteractiveShell.get_ipython of <ipykernel.zmqshell.ZMQInteractiveShell object at 0x7fb8be991790>>,\n",
       " 'exit': <IPython.core.autocall.ZMQExitAutocall at 0x7fb8be9bfa90>,\n",
       " 'quit': <IPython.core.autocall.ZMQExitAutocall at 0x7fb8be9bfa90>,\n",
       " '_': True,\n",
       " '__': '',\n",
       " '___': '',\n",
       " '_i': 'locals() is globals()',\n",
       " '_ii': 'limit',\n",
       " '_iii': 'iterator = cubes()\\nprint(next(iterator))\\nprint(next(iterator))\\nprint(next(iterator))',\n",
       " '_i1': \"\\n\\ndef get_my_hero_team(team, number):\\n    number = 10\\n    team['Chuck'] = 'Norris'\\n    team['Sylvester'] = 'Stallone'\\n    \\nnumber = 5\\nhero_team = {'Bruce': 'Willis', 'Chuck': 'Lorre'}\\nget_my_hero_team(hero_team, number)\\n\\n[print(*item) for item in hero_team.items()]\\nprint(number)\",\n",
       " 'get_my_hero_team': <function __main__.get_my_hero_team(team, number)>,\n",
       " 'number': 5,\n",
       " 'hero_team': {'Bruce': 'Willis', 'Chuck': 'Norris', 'Sylvester': 'Stallone'},\n",
       " '_i2': \"def foo(a, b=0.5, **kwargs):\\n    print('a =', a, 'b =', b, 'kwargs =', kwargs)\\n    \\nfoo(1, c='c')\\nfoo(1, c='c', b='b')\\nfoo(1, 'b', c='c', d='d')\",\n",
       " 'foo': <function __main__.foo(a, b=0.5, **kwargs)>,\n",
       " '_i3': \"def foo(a, b=0.5, **kwargs):\\n    print(type(kwargs))\\n    print('a =', a, 'b =', b, 'kwargs =', kwargs)\\n    \\nfoo(1, c='c')\\nfoo(1, c='c', b='b')\\nfoo(1, 'b', c='c', d='d')\",\n",
       " '_i4': \"def foo(a, b=0.5, **kwargs):\\n    print(type(kwargs))\\n    kwargs[1] = 2\\n    print('a =', a, 'b =', b, 'kwargs =', kwargs)\\n    \\nfoo(1, c='c')\\nfoo(1, c='c', b='b')\\nfoo(1, 'b', c='c', d='d')\",\n",
       " '_i5': \"def foo(a, *args, b):\\n    args.append(1)\\n    print('a =', a, 'b =', b, 'args =', args)\\n    \\nfoo(1, [1, 2], 0.5, b='b')\",\n",
       " '_i6': \"def foo(a, *args, b):\\n    print('a =', a, 'b =', b, 'args =', args)\\n    \\nfoo(1, [1, 2], 0.5, b='b')\",\n",
       " '_i7': \"def foo(a, b=0.5, **kwargs):\\n    print('a =', a, 'b =', b, 'kwargs =', kwargs)\\n    \\nfoo(1, c='c')\\nfoo(1, c='c', b='b')\\nfoo(1, 'b', c='c', d='d')\",\n",
       " '_i8': 'iterator = cubes()\\nprint(next(iterator))',\n",
       " '_i9': \"def cubes():\\n    i = 0\\n    while True:\\n        yield i ** 3\\n        i += 1\\n        \\nfor value in cubes():\\n    print(value, end=' ')\\n    \\n    if value > 100:\\n        break\",\n",
       " 'cubes': <function __main__.cubes()>,\n",
       " 'value': 125,\n",
       " '_i10': 'iterator = cubes()\\nprint(next(iterator))',\n",
       " 'iterator': <generator object cubes at 0x7fb8beb1a4d0>,\n",
       " '_i11': 'iterator = cubes()\\nprint(next(iterator))\\n\\nprint(next(iterator))',\n",
       " '_i12': 'iterator = cubes()\\nprint(next(iterator))\\nprint(next(iterator))\\nprint(next(iterator))',\n",
       " '_i13': 'limit',\n",
       " '_i14': 'locals() is globals()',\n",
       " '_14': True,\n",
       " '_i15': 'locals()'}"
      ]
     },
     "execution_count": 15,
     "metadata": {},
     "output_type": "execute_result"
    }
   ],
   "source": [
    "locals()"
   ]
  },
  {
   "cell_type": "code",
   "execution_count": 44,
   "metadata": {},
   "outputs": [
    {
     "name": "stdout",
     "output_type": "stream",
     "text": [
      "42\n",
      "100500\n"
     ]
    }
   ],
   "source": [
    "value = 42\n",
    "print(globals()['value'])\n",
    "\n",
    "globals()['value'] = 100500\n",
    "print(value)"
   ]
  },
  {
   "cell_type": "markdown",
   "metadata": {
    "slideshow": {
     "slide_type": "subslide"
    }
   },
   "source": [
    "#### Циклы и условия не создают своё пространство имён"
   ]
  },
  {
   "cell_type": "code",
   "execution_count": 2,
   "metadata": {},
   "outputs": [
    {
     "name": "stdout",
     "output_type": "stream",
     "text": [
      "0\n",
      "1\n",
      "2\n"
     ]
    }
   ],
   "source": [
    "if (True):\n",
    "    value_assigned_in_if = 1\n",
    "    \n",
    "    \n",
    "for loop_counter in range(1):\n",
    "    value_assigned_in_for = 2\n",
    "    \n",
    "print(loop_counter)\n",
    "print(value_assigned_in_if)\n",
    "print(value_assigned_in_for)"
   ]
  },
  {
   "cell_type": "markdown",
   "metadata": {
    "slideshow": {
     "slide_type": "subslide"
    }
   },
   "source": [
    "#### Функции создают своё пространство имён"
   ]
  },
  {
   "cell_type": "code",
   "execution_count": 17,
   "metadata": {},
   "outputs": [
    {
     "name": "stdout",
     "output_type": "stream",
     "text": [
      "1\n",
      "locals: 1\n",
      "globals: 0\n",
      "False\n",
      "0\n",
      "True\n"
     ]
    }
   ],
   "source": [
    "value = 0\n",
    "\n",
    "def foo():\n",
    "    value = 1\n",
    "    print(value)\n",
    "    \n",
    "    print('locals:', locals()['value'])\n",
    "    print('globals:', globals()['value'])\n",
    "    print(locals() is globals())\n",
    "    \n",
    "foo()\n",
    "print(value)\n",
    "print(locals() is globals())"
   ]
  },
  {
   "cell_type": "markdown",
   "metadata": {
    "slideshow": {
     "slide_type": "slide"
    }
   },
   "source": [
    "### Область видимости (scope)\n",
    "\n",
    "Правило LEGB:\n",
    "1. Local - имена, определенные внутри функции (и не помеченные global)\n",
    "2. Enclosing-function locals - имена в области видимости всех оборачивающих (enclosing) функций, в порядке уменьшения глубины\n",
    "3. Global - имена, определенные на уровне модуля или посредством global\n",
    "4. Built-in - предопределенные (range, open, ...)"
   ]
  },
  {
   "cell_type": "code",
   "execution_count": 14,
   "metadata": {
    "slideshow": {
     "slide_type": "-"
    }
   },
   "outputs": [
    {
     "name": "stdout",
     "output_type": "stream",
     "text": [
      "enclosing scope value 2\n",
      "global value 1\n"
     ]
    }
   ],
   "source": [
    "value = 1\n",
    "\n",
    "def foo():\n",
    "    value = 2\n",
    "    \n",
    "    def bar():\n",
    "        value = 3\n",
    "    \n",
    "    bar()\n",
    "    print('enclosing scope value', value)\n",
    "    \n",
    "foo()\n",
    "print('global value', value)"
   ]
  },
  {
   "cell_type": "markdown",
   "metadata": {
    "slideshow": {
     "slide_type": "skip"
    }
   },
   "source": [
    "#### Пример LEGB"
   ]
  },
  {
   "cell_type": "code",
   "execution_count": 7,
   "metadata": {
    "slideshow": {
     "slide_type": "subslide"
    }
   },
   "outputs": [
    {
     "name": "stdout",
     "output_type": "stream",
     "text": [
      "built-in: <class 'range'>\n",
      "global: global range\n",
      "enclosing-function: enclosing-function range\n",
      "local: local range\n"
     ]
    }
   ],
   "source": [
    "def foo():\n",
    "    def bar():\n",
    "        print('built-in:', range)\n",
    "    bar()\n",
    "foo()\n",
    "\n",
    "range = 'global range'\n",
    "\n",
    "def foo():\n",
    "    def bar():\n",
    "        print('global:', range)\n",
    "    bar()\n",
    "foo()\n",
    "        \n",
    "def foo():\n",
    "    range = 'enclosing-function range'\n",
    "    def bar():\n",
    "        print('enclosing-function:', range)\n",
    "    bar()\n",
    "foo()\n",
    "\n",
    "def foo():\n",
    "    range = 'enclosing-function range'\n",
    "    def bar():\n",
    "        range = 'local range'\n",
    "        print('local:', range)\n",
    "    bar()\n",
    "foo()"
   ]
  },
  {
   "cell_type": "markdown",
   "metadata": {
    "slideshow": {
     "slide_type": "slide"
    }
   },
   "source": [
    "### Ключевое слово global"
   ]
  },
  {
   "cell_type": "code",
   "execution_count": 16,
   "metadata": {},
   "outputs": [
    {
     "name": "stdout",
     "output_type": "stream",
     "text": [
      "enclosing scope value 2\n",
      "global value 3\n"
     ]
    }
   ],
   "source": [
    "value = 1\n",
    "\n",
    "def foo():\n",
    "    value = 2\n",
    "    \n",
    "    def bar():\n",
    "        global value\n",
    "        value = 3\n",
    "    \n",
    "    bar()\n",
    "    print('enclosing scope value', value)\n",
    "    \n",
    "foo()\n",
    "print('global value', value)"
   ]
  },
  {
   "cell_type": "markdown",
   "metadata": {
    "slideshow": {
     "slide_type": "subslide"
    }
   },
   "source": [
    "### Ключевое слово nonlocal"
   ]
  },
  {
   "cell_type": "code",
   "execution_count": 17,
   "metadata": {},
   "outputs": [
    {
     "name": "stdout",
     "output_type": "stream",
     "text": [
      "enclosing scope value 3\n",
      "global value 1\n"
     ]
    }
   ],
   "source": [
    "value = 1\n",
    "\n",
    "def foo():\n",
    "    value = 2\n",
    "    \n",
    "    def bar():\n",
    "        nonlocal value\n",
    "        value = 3\n",
    "    \n",
    "    bar()\n",
    "    print('enclosing scope value', value)\n",
    "    \n",
    "foo()\n",
    "print('global value', value)"
   ]
  },
  {
   "cell_type": "markdown",
   "metadata": {
    "slideshow": {
     "slide_type": "subslide"
    }
   },
   "source": [
    "Пространства имён в python *статические* <br>\n",
    "Определение любого используемого в коде обьекта можно найти без запуска программы."
   ]
  },
  {
   "cell_type": "code",
   "execution_count": 40,
   "metadata": {},
   "outputs": [
    {
     "name": "stdout",
     "output_type": "stream",
     "text": [
      "1\n",
      "1\n"
     ]
    }
   ],
   "source": [
    "value = 1\n",
    "\n",
    "def foo():\n",
    "    \n",
    "    print(value)\n",
    "    \n",
    "    def bar():\n",
    "        print(value)\n",
    "    \n",
    "    bar()\n",
    "    value = 2\n",
    "    \n",
    "foo()"
   ]
  },
  {
   "cell_type": "markdown",
   "metadata": {
    "slideshow": {
     "slide_type": "slide"
    }
   },
   "source": [
    "# Замыкания [Closures]\n",
    "*In computer programming languages, a closure is a function together with a referencing environment of that function. A closure function is any function that uses a variable that is defined in an environment (or scope) that is external to that function, and is accessible within the function when invoked from a scope in which that free variable is not defined.*\n",
    "\n",
    "Существования замыканий следует из правила LEGB, возможности оперировать с функциями как обьектами и того что области видимости в Питоне - статические."
   ]
  },
  {
   "cell_type": "code",
   "execution_count": 21,
   "metadata": {
    "slideshow": {
     "slide_type": "subslide"
    }
   },
   "outputs": [
    {
     "name": "stdout",
     "output_type": "stream",
     "text": [
      "[20, 20, 20, 20, 20]\n"
     ]
    }
   ],
   "source": [
    "multipliers = []\n",
    "\n",
    "for m in range(5):\n",
    "    multipliers.append(lambda x: x * m)\n",
    "\n",
    "print([multipliers[i](5) for i in range(5)])"
   ]
  },
  {
   "cell_type": "code",
   "execution_count": 42,
   "metadata": {},
   "outputs": [
    {
     "data": {
      "text/plain": [
       "[<function __main__.<lambda>(x)>,\n",
       " <function __main__.<lambda>(x)>,\n",
       " <function __main__.<lambda>(x)>,\n",
       " <function __main__.<lambda>(x)>,\n",
       " <function __main__.<lambda>(x)>]"
      ]
     },
     "execution_count": 42,
     "metadata": {},
     "output_type": "execute_result"
    }
   ],
   "source": [
    "multipliers"
   ]
  },
  {
   "cell_type": "code",
   "execution_count": 43,
   "metadata": {
    "slideshow": {
     "slide_type": "subslide"
    }
   },
   "outputs": [
    {
     "name": "stdout",
     "output_type": "stream",
     "text": [
      "5\n",
      "5\n"
     ]
    }
   ],
   "source": [
    "def foo():\n",
    "    x = 3\n",
    "    def bar():\n",
    "        print(x)\n",
    "    x = 5\n",
    "    return bar\n",
    "\n",
    "bar = foo()\n",
    "bar()\n",
    "\n",
    "x = 9\n",
    "bar()"
   ]
  },
  {
   "cell_type": "code",
   "execution_count": 20,
   "metadata": {
    "slideshow": {
     "slide_type": "subslide"
    }
   },
   "outputs": [
    {
     "name": "stdout",
     "output_type": "stream",
     "text": [
      "7\n",
      "9\n"
     ]
    }
   ],
   "source": [
    "def make_adder(x):\n",
    "    def adder(y):\n",
    "        return x + y\n",
    "    return adder\n",
    "\n",
    "add_two = make_adder(2)\n",
    "\n",
    "print(add_two(5))\n",
    "print(add_two(7))"
   ]
  },
  {
   "cell_type": "markdown",
   "metadata": {
    "slideshow": {
     "slide_type": "subslide"
    }
   },
   "source": [
    "#### Функции могут замыкать одинаковые переменные"
   ]
  },
  {
   "cell_type": "code",
   "execution_count": 14,
   "metadata": {
    "slideshow": {
     "slide_type": "-"
    }
   },
   "outputs": [
    {
     "name": "stdout",
     "output_type": "stream",
     "text": [
      "10\n",
      "20\n"
     ]
    }
   ],
   "source": [
    "def cell(value = 0):\n",
    "    def Get():\n",
    "        return value\n",
    "    \n",
    "    def Set(new_value):\n",
    "        nonlocal value\n",
    "        value = new_value\n",
    "        return value\n",
    "    \n",
    "    return Get, Set\n",
    "\n",
    "Get, Set = cell(10)\n",
    "print(Get())\n",
    "\n",
    "Set(20)\n",
    "print(Get())"
   ]
  },
  {
   "cell_type": "markdown",
   "metadata": {
    "slideshow": {
     "slide_type": "subslide"
    }
   },
   "source": [
    "#### Посмотрим, что внутри замыкания"
   ]
  },
  {
   "cell_type": "code",
   "execution_count": 15,
   "metadata": {},
   "outputs": [
    {
     "name": "stdout",
     "output_type": "stream",
     "text": [
      "(<cell at 0x7ff0f05e8138: int object at 0x7ff105066920>,)\n",
      "20\n"
     ]
    }
   ],
   "source": [
    "print(Get.__closure__)\n",
    "print(Get.__closure__[0].cell_contents)"
   ]
  },
  {
   "cell_type": "markdown",
   "metadata": {},
   "source": [
    "**\\_\\_closure\\_\\_** &mdash; список замкнутых переменных.<br>\n",
    "Переменная представлена в виде класса **cell** с единственным полем **cell_contents**"
   ]
  },
  {
   "cell_type": "code",
   "execution_count": 16,
   "metadata": {},
   "outputs": [
    {
     "name": "stdout",
     "output_type": "stream",
     "text": [
      "True\n",
      "True\n"
     ]
    }
   ],
   "source": [
    "print(Get.__closure__ == Set.__closure__)\n",
    "print(Get.__closure__[0] is Set.__closure__[0])"
   ]
  },
  {
   "cell_type": "markdown",
   "metadata": {
    "slideshow": {
     "slide_type": "slide"
    }
   },
   "source": [
    "# Декораторы\n",
    "\n",
    "Замыкания как способ быстро изменить поведение функции"
   ]
  },
  {
   "cell_type": "code",
   "execution_count": 44,
   "metadata": {},
   "outputs": [
    {
     "name": "stdout",
     "output_type": "stream",
     "text": [
      "[1, 2, 3]\n"
     ]
    },
    {
     "name": "stderr",
     "output_type": "stream",
     "text": [
      "print is deprecated\n"
     ]
    }
   ],
   "source": [
    "import sys\n",
    "\n",
    "def deprecate(func):\n",
    "    def inner(*args, **kwargs):\n",
    "        print('{} is deprecated'.format(func.__name__), file=sys.stderr)\n",
    "        return func(*args, **kwargs)\n",
    "    return inner\n",
    "\n",
    "pprint = deprecate(print)\n",
    "\n",
    "pprint([1, 2, 3])"
   ]
  },
  {
   "cell_type": "markdown",
   "metadata": {
    "slideshow": {
     "slide_type": "subslide"
    }
   },
   "source": [
    "### Наблюдение"
   ]
  },
  {
   "cell_type": "code",
   "execution_count": 28,
   "metadata": {},
   "outputs": [
    {
     "name": "stdout",
     "output_type": "stream",
     "text": [
      "[1, 2, 3]\n"
     ]
    },
    {
     "name": "stderr",
     "output_type": "stream",
     "text": [
      "show is deprecated\n"
     ]
    }
   ],
   "source": [
    "import sys\n",
    "\n",
    "def deprecated(func):\n",
    "    def wrapper(*args, **kwargs):\n",
    "        print('{} is deprecated'.format(func.__name__), file=sys.stderr)\n",
    "        return func(*args, **kwargs)\n",
    "    return wrapper\n",
    "\n",
    "\n",
    "@deprecated\n",
    "def show(x):\n",
    "    print(x)\n",
    "\n",
    "show([1, 2, 3])"
   ]
  },
  {
   "cell_type": "markdown",
   "metadata": {
    "slideshow": {
     "slide_type": "subslide"
    }
   },
   "source": [
    "### Проблема"
   ]
  },
  {
   "cell_type": "code",
   "execution_count": 33,
   "metadata": {},
   "outputs": [
    {
     "name": "stdout",
     "output_type": "stream",
     "text": [
      "wrapper\n",
      "None\n"
     ]
    }
   ],
   "source": [
    "@deprecated\n",
    "def show(x):\n",
    "    'This is a really nice looking docstring'\n",
    "    print(x)\n",
    "\n",
    "print(show.__name__)\n",
    "print(show.__doc__)"
   ]
  },
  {
   "cell_type": "markdown",
   "metadata": {
    "slideshow": {
     "slide_type": "subslide"
    }
   },
   "source": [
    "### Решение 1"
   ]
  },
  {
   "cell_type": "code",
   "execution_count": 34,
   "metadata": {},
   "outputs": [
    {
     "name": "stdout",
     "output_type": "stream",
     "text": [
      "show\n",
      "This is a really nice looking docstring\n"
     ]
    }
   ],
   "source": [
    "def deprecated(func):\n",
    "    def wrapper(*args, **kwargs):\n",
    "        print('{} is deprecated!'.format(func.__name__), file=sys.stderr)\n",
    "        return func(*args, **kwargs)\n",
    "    wrapper.__name__ = func.__name__\n",
    "    wrapper.__doc__ = func.__doc__\n",
    "    wrapper.__module__ = func.__module__\n",
    "    return wrapper\n",
    "\n",
    "@deprecated\n",
    "def show(x):\n",
    "    'This is a really nice looking docstring'\n",
    "    print(x)\n",
    "\n",
    "print(show.__name__)\n",
    "print(show.__doc__)"
   ]
  },
  {
   "cell_type": "markdown",
   "metadata": {
    "slideshow": {
     "slide_type": "subslide"
    }
   },
   "source": [
    "### Решение 2"
   ]
  },
  {
   "cell_type": "code",
   "execution_count": 30,
   "metadata": {},
   "outputs": [
    {
     "name": "stdout",
     "output_type": "stream",
     "text": [
      "show\n",
      "This is a really nice looking docstring\n"
     ]
    }
   ],
   "source": [
    "import functools\n",
    "\n",
    "def deprecated(func):\n",
    "    @functools.wraps(func) \n",
    "    def wrapper(*args, **kwargs):\n",
    "        print('{} is deprecated!'.format(func.__name__), file=sys.stderr)\n",
    "        return func(*args, **kwargs)\n",
    "    return wrapper\n",
    "\n",
    "@deprecated\n",
    "def show(x):\n",
    "    'This is a really nice looking docstring'\n",
    "    print(x)\n",
    "\n",
    "print(show.__name__)\n",
    "print(show.__doc__)"
   ]
  },
  {
   "cell_type": "markdown",
   "metadata": {
    "slideshow": {
     "slide_type": "slide"
    }
   },
   "source": [
    "### Декораторы с аргументами"
   ]
  },
  {
   "cell_type": "code",
   "execution_count": 32,
   "metadata": {
    "slideshow": {
     "slide_type": "-"
    }
   },
   "outputs": [
    {
     "name": "stdout",
     "output_type": "stream",
     "text": [
      "f called with args ('Hi!',), kwargs {'test': 42}!\n",
      "f called with args ('Hi!', 21.0), kwargs {}!\n",
      "f called with args ('Hi!', 10.5), kwargs {}!\n",
      "f called with args ('Hi!', 5.25), kwargs {}!\n",
      "f called with args ('Hi!', 2.625), kwargs {}!\n",
      "f called with args ('Hi!', 1.3125), kwargs {}!\n",
      "f called with args ('Hi!', 0.65625), kwargs {}!\n"
     ]
    }
   ],
   "source": [
    "def trace(dest=sys.stderr):\n",
    "    def wraps(func):\n",
    "        @functools.wraps(func)\n",
    "        def wrapper(*args, **kwargs):\n",
    "            print('{} called with args {}, kwargs {}!'.format(func.__name__, args, kwargs), file = dest)\n",
    "            return func(*args, **kwargs)\n",
    "        return wrapper\n",
    "    return wraps\n",
    "\n",
    "@trace(sys.stdout) \n",
    "def f(x, test):\n",
    "    if test > 1:\n",
    "        return f(x, test / 2)\n",
    "\n",
    "f('Hi!', test=42)"
   ]
  },
  {
   "cell_type": "markdown",
   "metadata": {
    "slideshow": {
     "slide_type": "subslide"
    }
   },
   "source": [
    "#### Минизадача\n",
    "Написать декоратор **once(function)**.<br>\n",
    "Декоратор вызывает функцию только один раз."
   ]
  },
  {
   "cell_type": "code",
   "execution_count": null,
   "metadata": {},
   "outputs": [],
   "source": []
  },
  {
   "cell_type": "code",
   "execution_count": 28,
   "metadata": {},
   "outputs": [
    {
     "name": "stdout",
     "output_type": "stream",
     "text": [
      "Hi!\n"
     ]
    }
   ],
   "source": [
    "@once\n",
    "def foo():\n",
    "    print('Hi!')\n",
    "\n",
    "foo()\n",
    "foo()"
   ]
  },
  {
   "cell_type": "code",
   "execution_count": null,
   "metadata": {
    "slideshow": {
     "slide_type": "subslide"
    }
   },
   "outputs": [],
   "source": []
  },
  {
   "cell_type": "markdown",
   "metadata": {
    "slideshow": {
     "slide_type": "slide"
    }
   },
   "source": [
    "### Декораторам необязательно быть функциями"
   ]
  },
  {
   "cell_type": "code",
   "execution_count": 17,
   "metadata": {
    "slideshow": {
     "slide_type": "-"
    }
   },
   "outputs": [],
   "source": [
    "from collections import Counter \n",
    "\n",
    "class Register(object):\n",
    "    def __init__(self):\n",
    "        self.stat = Counter()\n",
    "        \n",
    "    def __call__(self, func):\n",
    "        nm = func.__name__\n",
    "        def wrapper(*args, **kwrags):\n",
    "            self.stat[nm] += 1\n",
    "            return func(*args, **kwrags)\n",
    "        return wrapper\n",
    "    \n",
    "    def __str__(self):\n",
    "        result = 'fname\\tcallcount\\n'\n",
    "        for name, count in self.stat.items():\n",
    "            result += '{}:\\t{}\\n'.format(name, count)\n",
    "        return result\n",
    "    \n",
    "register = Register()"
   ]
  },
  {
   "cell_type": "code",
   "execution_count": 18,
   "metadata": {
    "slideshow": {
     "slide_type": "subslide"
    }
   },
   "outputs": [
    {
     "name": "stdout",
     "output_type": "stream",
     "text": [
      "fname\tcallcount\n",
      "f:\t2\n",
      "q:\t3\n",
      "\n"
     ]
    }
   ],
   "source": [
    "\n",
    "@register\n",
    "def f(x):\n",
    "    return x \n",
    "\n",
    "@register\n",
    "def q(x):\n",
    "    return q\n",
    "\n",
    "f(1), q(2), q(4)\n",
    "q(2), f(5)\n",
    "print(register)"
   ]
  },
  {
   "cell_type": "code",
   "execution_count": 45,
   "metadata": {
    "slideshow": {
     "slide_type": "slide"
    }
   },
   "outputs": [
    {
     "name": "stdout",
     "output_type": "stream",
     "text": [
      "except is executed if not listed error occurs\n",
      "finally is always executed\n"
     ]
    }
   ],
   "source": [
    "#Обработка исключений\n",
    "\n",
    "arr = [1,2,3]\n",
    "\n",
    "try:\n",
    "#     arr[1] = 0\n",
    "    #arr[3] = 0\n",
    "    tuple(arr)[1] = 0\n",
    "    \n",
    "except IndexError:\n",
    "    print('except IndexError is executed if IndexError occurs in try')\n",
    "    \n",
    "except Exception:\n",
    "    print('except is executed if not listed error occurs')\n",
    "    \n",
    "else:\n",
    "    print('else is executed if try worked')\n",
    "    \n",
    "finally:\n",
    "    print('finally is always executed')"
   ]
  },
  {
   "cell_type": "markdown",
   "metadata": {},
   "source": [
    "## Разные полезные плюшки"
   ]
  },
  {
   "cell_type": "code",
   "execution_count": 10,
   "metadata": {},
   "outputs": [
    {
     "name": "stdout",
     "output_type": "stream",
     "text": [
      "[1, 2, 3, 4]\n"
     ]
    }
   ],
   "source": [
    "# Функция filter - возвращает фильтр-объект (генератор)\n",
    "res = [y for y in filter(lambda x: x > 0, range(-5,5))]\n",
    "\n",
    "print(res)"
   ]
  },
  {
   "cell_type": "code",
   "execution_count": 11,
   "metadata": {},
   "outputs": [
    {
     "name": "stdout",
     "output_type": "stream",
     "text": [
      "24\n"
     ]
    }
   ],
   "source": [
    "import functools\n",
    "\n",
    "#help(functools.reduce) # == Apply a function of two arguments cumulatively to the items of a sequence\n",
    "\n",
    "print(functools.reduce(lambda result, y: result*y, res))"
   ]
  },
  {
   "cell_type": "code",
   "execution_count": null,
   "metadata": {},
   "outputs": [],
   "source": [
    "result = 1\n",
    "result * 2\n",
    "result * 3\n",
    "result * 4"
   ]
  },
  {
   "cell_type": "code",
   "execution_count": 12,
   "metadata": {},
   "outputs": [
    {
     "data": {
      "text/plain": [
       "18"
      ]
     },
     "execution_count": 12,
     "metadata": {},
     "output_type": "execute_result"
    }
   ],
   "source": [
    "# The partial() is used for partial function application which “freezes” some portion of \n",
    "# a function’s arguments and/or keywords resulting in a new object.\n",
    "\n",
    "basetwo = functools.partial(int, base=2)\n",
    "basetwo.__doc__ = 'Convert base 2 string to an int.'\n",
    "basetwo('10010')"
   ]
  },
  {
   "cell_type": "code",
   "execution_count": null,
   "metadata": {},
   "outputs": [],
   "source": [
    "int(base=2)\n",
    "int()"
   ]
  },
  {
   "cell_type": "markdown",
   "metadata": {},
   "source": [
    "## Асинхронное программирование"
   ]
  },
  {
   "cell_type": "code",
   "execution_count": 5,
   "metadata": {},
   "outputs": [
    {
     "name": "stdout",
     "output_type": "stream",
     "text": [
      "who doesn't love cats??\n",
      "1 2\n"
     ]
    }
   ],
   "source": [
    "# Корутины\n",
    "\n",
    "def grep(pattern):\n",
    "    \n",
    "    number = 0\n",
    "    \n",
    "    while True:\n",
    "        line = yield number\n",
    "        \n",
    "        number += 1\n",
    "        \n",
    "        if pattern in line:\n",
    "            print(line)\n",
    "            \n",
    "\n",
    "search = grep('cat') # Создаем\n",
    "\n",
    "next(search) # Открываем (само никак), чтобы дошло до yield\n",
    "\n",
    "number1 = search.send(\"he loves only dogs!\")     # Посылаем\n",
    "number2 = search.send(\"who doesn't love cats??\") # Посылаем\n",
    "\n",
    "print(number1,number2)\n",
    "\n",
    "search.close() # Закрываем"
   ]
  },
  {
   "cell_type": "code",
   "execution_count": 30,
   "metadata": {},
   "outputs": [
    {
     "name": "stdout",
     "output_type": "stream",
     "text": [
      "Writing asyncio_example1.py\n"
     ]
    }
   ],
   "source": [
    "%%writefile asyncio_example1.py\n",
    "\n",
    "# Библиотека Asyncio, см. https://habr.com/ru/post/337420/\n",
    "import asyncio\n",
    "\n",
    "async def foo():\n",
    "    print('Running in foo')\n",
    "    await asyncio.sleep(0)\n",
    "    print('Explicit context switch to foo again')\n",
    "\n",
    "\n",
    "async def bar():\n",
    "    print('Explicit context to bar')\n",
    "    await asyncio.sleep(0)\n",
    "    print('Implicit context switch back to bar')\n",
    "\n",
    "\n",
    "ioloop = asyncio.get_event_loop()\n",
    "tasks = [ioloop.create_task(foo()), ioloop.create_task(bar())]\n",
    "wait_tasks = asyncio.wait(tasks)\n",
    "ioloop.run_until_complete(wait_tasks)\n",
    "ioloop.close()"
   ]
  },
  {
   "cell_type": "code",
   "execution_count": 31,
   "metadata": {},
   "outputs": [
    {
     "name": "stdout",
     "output_type": "stream",
     "text": [
      "Running in foo\r\n",
      "Explicit context to bar\r\n",
      "Explicit context switch to foo again\r\n",
      "Implicit context switch back to bar\r\n"
     ]
    }
   ],
   "source": [
    "!python3 asyncio_example1.py"
   ]
  },
  {
   "cell_type": "code",
   "execution_count": 32,
   "metadata": {},
   "outputs": [
    {
     "name": "stdout",
     "output_type": "stream",
     "text": [
      "Writing asyncio_example2.py\n"
     ]
    }
   ],
   "source": [
    "%%writefile asyncio_example2.py\n",
    "# Why to bother?? == to optimize I/O calls\n",
    "\n",
    "import time\n",
    "import asyncio\n",
    "\n",
    "start = time.time()\n",
    "\n",
    "\n",
    "def tic():\n",
    "    return 'at %1.1f seconds' % (time.time() - start)\n",
    "\n",
    "\n",
    "async def gr1():\n",
    "    # Busy waits for a second, but we don't want to stick around...\n",
    "    print('gr1 started work: {}'.format(tic()))\n",
    "    await asyncio.sleep(2)\n",
    "    print('gr1 ended work: {}'.format(tic()))\n",
    "\n",
    "\n",
    "async def gr2():\n",
    "    # Busy waits for a second, but we don't want to stick around...\n",
    "    print('gr2 started work: {}'.format(tic()))\n",
    "    await asyncio.sleep(2)\n",
    "    print('gr2 Ended work: {}'.format(tic()))\n",
    "\n",
    "\n",
    "async def gr3():\n",
    "    print(\"Let's do some stuff while the coroutines are blocked, {}\".format(tic()))\n",
    "    await asyncio.sleep(1)\n",
    "    print(\"Done!\")\n",
    "\n",
    "\n",
    "ioloop = asyncio.get_event_loop()\n",
    "tasks = [\n",
    "    ioloop.create_task(gr1()),\n",
    "    ioloop.create_task(gr2()),\n",
    "    ioloop.create_task(gr3())\n",
    "]\n",
    "ioloop.run_until_complete(asyncio.wait(tasks))\n",
    "ioloop.close()"
   ]
  },
  {
   "cell_type": "code",
   "execution_count": 33,
   "metadata": {},
   "outputs": [
    {
     "name": "stdout",
     "output_type": "stream",
     "text": [
      "gr1 started work: at 0.0 seconds\n",
      "gr2 started work: at 0.0 seconds\n",
      "Let's do some stuff while the coroutines are blocked, at 0.0 seconds\n",
      "Done!\n",
      "gr1 ended work: at 2.0 seconds\n",
      "gr2 Ended work: at 2.0 seconds\n"
     ]
    }
   ],
   "source": [
    "!python3 asyncio_example2.py"
   ]
  },
  {
   "cell_type": "markdown",
   "metadata": {},
   "source": [
    "# Решения упражнений"
   ]
  },
  {
   "cell_type": "code",
   "execution_count": null,
   "metadata": {
    "slideshow": {
     "slide_type": "skip"
    }
   },
   "outputs": [],
   "source": [
    "def limit(gen, lim):\n",
    "    count = 0\n",
    "    for val in gen:\n",
    "        yield val\n",
    "        count += 1\n",
    "        if count >= lim:\n",
    "            break"
   ]
  },
  {
   "cell_type": "code",
   "execution_count": null,
   "metadata": {
    "slideshow": {
     "slide_type": "skip"
    }
   },
   "outputs": [],
   "source": [
    "from collections.abc import Iterable\n",
    "#isinstance(x, Iterable)\n",
    "def all_elements(x):\n",
    "    if not isinstance(x, Iterable):\n",
    "        yield x\n",
    "    else:\n",
    "        for val in x:\n",
    "            for element in all_elements(val):\n",
    "                yield element"
   ]
  },
  {
   "cell_type": "code",
   "execution_count": null,
   "metadata": {
    "slideshow": {
     "slide_type": "skip"
    }
   },
   "outputs": [],
   "source": [
    "def once(func):\n",
    "    def wrapper(*args, **kwargs):\n",
    "        nonlocal called\n",
    "        if not called:\n",
    "            called = True\n",
    "            return func(*args, **kwargs)\n",
    "\n",
    "    called = False\n",
    "    return wrapper\n",
    "\n",
    "@once\n",
    "def f():\n",
    "    print('Hi!')\n",
    "\n",
    "f()\n",
    "f()"
   ]
  }
 ],
 "metadata": {
  "celltoolbar": "Slideshow",
  "kernelspec": {
   "display_name": "Python 3 (ipykernel)",
   "language": "python",
   "name": "python3"
  },
  "language_info": {
   "codemirror_mode": {
    "name": "ipython",
    "version": 3
   },
   "file_extension": ".py",
   "mimetype": "text/x-python",
   "name": "python",
   "nbconvert_exporter": "python",
   "pygments_lexer": "ipython3",
   "version": "3.7.9"
  }
 },
 "nbformat": 4,
 "nbformat_minor": 2
}
